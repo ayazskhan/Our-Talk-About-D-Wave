{
 "cells": [
  {
   "cell_type": "code",
   "execution_count": 1,
   "metadata": {},
   "outputs": [],
   "source": [
    "# Knapsack problem solved classically and through DWave\n",
    "\n",
    "# Part 2- Building the QUBO\n",
    "\n",
    "# Detailed explanation is provided\n",
    "# (c)2020 Alex Khan"
   ]
  },
  {
   "cell_type": "code",
   "execution_count": 2,
   "metadata": {},
   "outputs": [],
   "source": [
    "# In the knapsack problem we have a list of items i, from i=1 to i=N\n",
    "# Each item has a weight w(i)\n",
    "# and cost( equivalent to its value or price) c(i)\n",
    "\n",
    "# The constraint is that the weight cannot exceed the capacity of the knapsack w_capacity\n",
    "\n",
    "# The goal is to find a combination of items i_list where the maximum value c_max is achieved without \n",
    "# exceeding w_capacity. The maximum weight being carried would then be w_max for those items."
   ]
  },
  {
   "cell_type": "code",
   "execution_count": 3,
   "metadata": {},
   "outputs": [],
   "source": [
    "# A number of approaches are available online, however, I will use an approach using the combination function\n",
    "# To generate all unique combinations of items that could be filled in the knapsack\n",
    "\n",
    "# I will then check to ensure the weight capacity is not exceeded. \n",
    "# For each combination I will check to see if its value is more than the stored maximum value of previous tries\n",
    "# If it is more, then I will replace c_max and i_list\n",
    "\n",
    "# At the end I will present the best option"
   ]
  },
  {
   "cell_type": "code",
   "execution_count": 4,
   "metadata": {},
   "outputs": [],
   "source": [
    "# The input file is a simple text file with the cost and then weight separated with a comma\n",
    "# For example:\n",
    "\n",
    "# 35,12\n",
    "# 85,27\n",
    "# 30,10\n",
    "# 50,17\n",
    "# 70,20\n",
    "# 80,10\n",
    "# 55,15\n"
   ]
  },
  {
   "cell_type": "code",
   "execution_count": 42,
   "metadata": {},
   "outputs": [],
   "source": [
    "def import_file(file_name):\n",
    "    import pandas as pd\n",
    "\n",
    "    data_file_name=\"small_data.txt\"\n",
    "    w_capacity=30\n",
    "\n",
    "    df = pd.read_csv(data_file_name, header=None)\n",
    "    df.columns = ['cost', 'weight']\n",
    "    print(df)\n",
    "    \n",
    "    c=df['cost']\n",
    "    w=df['weight']\n",
    "    return(c,w)\n",
    "\n",
    "    "
   ]
  },
  {
   "cell_type": "code",
   "execution_count": 43,
   "metadata": {},
   "outputs": [
    {
     "name": "stdout",
     "output_type": "stream",
     "text": [
      "   cost  weight\n",
      "0    35      12\n",
      "1    85      27\n",
      "2    30      10\n",
      "3    50      17\n",
      "4    70      20\n",
      "5    80      10\n",
      "6    55      15\n",
      "i, cost\n",
      "0 35\n",
      "1 85\n",
      "2 30\n",
      "3 50\n",
      "4 70\n",
      "5 80\n",
      "6 55\n",
      "i, weight\n",
      "0 12\n",
      "1 27\n",
      "2 10\n",
      "3 17\n",
      "4 20\n",
      "5 10\n",
      "6 15\n"
     ]
    }
   ],
   "source": [
    "c,w=import_file(\"small_data.txt\")\n",
    "N=len(c)\n",
    "print('i, cost')\n",
    "\n",
    "for i in range(N):\n",
    "    print(i, c[i])\n",
    "\n",
    "print('i, weight')\n",
    "for i in range(N):\n",
    "    print(i, w[i])"
   ]
  },
  {
   "cell_type": "code",
   "execution_count": 44,
   "metadata": {},
   "outputs": [
    {
     "name": "stdout",
     "output_type": "stream",
     "text": [
      "[0]\n",
      "[1]\n",
      "[2]\n",
      "[3]\n",
      "[4]\n",
      "[5]\n",
      "[6]\n",
      "[0, 1]\n",
      "[0, 2]\n",
      "[0, 3]\n",
      "[0, 4]\n",
      "[0, 5]\n",
      "[0, 6]\n",
      "[1, 2]\n",
      "[1, 3]\n",
      "[1, 4]\n",
      "[1, 5]\n",
      "[1, 6]\n",
      "[2, 3]\n",
      "[2, 4]\n",
      "[2, 5]\n",
      "[2, 6]\n",
      "[3, 4]\n",
      "[3, 5]\n",
      "[3, 6]\n",
      "[4, 5]\n",
      "[4, 6]\n",
      "[5, 6]\n",
      "[0, 1, 2]\n",
      "[0, 1, 3]\n",
      "[0, 1, 4]\n",
      "[0, 1, 5]\n",
      "[0, 1, 6]\n",
      "[0, 2, 3]\n",
      "[0, 2, 4]\n",
      "[0, 2, 5]\n",
      "[0, 2, 6]\n",
      "[0, 3, 4]\n",
      "[0, 3, 5]\n",
      "[0, 3, 6]\n",
      "[0, 4, 5]\n",
      "[0, 4, 6]\n",
      "[0, 5, 6]\n",
      "[1, 2, 3]\n",
      "[1, 2, 4]\n",
      "[1, 2, 5]\n",
      "[1, 2, 6]\n",
      "[1, 3, 4]\n",
      "[1, 3, 5]\n",
      "[1, 3, 6]\n",
      "[1, 4, 5]\n",
      "[1, 4, 6]\n",
      "[1, 5, 6]\n",
      "[2, 3, 4]\n",
      "[2, 3, 5]\n",
      "[2, 3, 6]\n",
      "[2, 4, 5]\n",
      "[2, 4, 6]\n",
      "[2, 5, 6]\n",
      "[3, 4, 5]\n",
      "[3, 4, 6]\n",
      "[3, 5, 6]\n",
      "[4, 5, 6]\n",
      "[0, 1, 2, 3]\n",
      "[0, 1, 2, 4]\n",
      "[0, 1, 2, 5]\n",
      "[0, 1, 2, 6]\n",
      "[0, 1, 3, 4]\n",
      "[0, 1, 3, 5]\n",
      "[0, 1, 3, 6]\n",
      "[0, 1, 4, 5]\n",
      "[0, 1, 4, 6]\n",
      "[0, 1, 5, 6]\n",
      "[0, 2, 3, 4]\n",
      "[0, 2, 3, 5]\n",
      "[0, 2, 3, 6]\n",
      "[0, 2, 4, 5]\n",
      "[0, 2, 4, 6]\n",
      "[0, 2, 5, 6]\n",
      "[0, 3, 4, 5]\n",
      "[0, 3, 4, 6]\n",
      "[0, 3, 5, 6]\n",
      "[0, 4, 5, 6]\n",
      "[1, 2, 3, 4]\n",
      "[1, 2, 3, 5]\n",
      "[1, 2, 3, 6]\n",
      "[1, 2, 4, 5]\n",
      "[1, 2, 4, 6]\n",
      "[1, 2, 5, 6]\n",
      "[1, 3, 4, 5]\n",
      "[1, 3, 4, 6]\n",
      "[1, 3, 5, 6]\n",
      "[1, 4, 5, 6]\n",
      "[2, 3, 4, 5]\n",
      "[2, 3, 4, 6]\n",
      "[2, 3, 5, 6]\n",
      "[2, 4, 5, 6]\n",
      "[3, 4, 5, 6]\n",
      "[0, 1, 2, 3, 4]\n",
      "[0, 1, 2, 3, 5]\n",
      "[0, 1, 2, 3, 6]\n",
      "[0, 1, 2, 4, 5]\n",
      "[0, 1, 2, 4, 6]\n",
      "[0, 1, 2, 5, 6]\n",
      "[0, 1, 3, 4, 5]\n",
      "[0, 1, 3, 4, 6]\n",
      "[0, 1, 3, 5, 6]\n",
      "[0, 1, 4, 5, 6]\n",
      "[0, 2, 3, 4, 5]\n",
      "[0, 2, 3, 4, 6]\n",
      "[0, 2, 3, 5, 6]\n",
      "[0, 2, 4, 5, 6]\n",
      "[0, 3, 4, 5, 6]\n",
      "[1, 2, 3, 4, 5]\n",
      "[1, 2, 3, 4, 6]\n",
      "[1, 2, 3, 5, 6]\n",
      "[1, 2, 4, 5, 6]\n",
      "[1, 3, 4, 5, 6]\n",
      "[2, 3, 4, 5, 6]\n",
      "[0, 1, 2, 3, 4, 5]\n",
      "[0, 1, 2, 3, 4, 6]\n",
      "[0, 1, 2, 3, 5, 6]\n",
      "[0, 1, 2, 4, 5, 6]\n",
      "[0, 1, 3, 4, 5, 6]\n",
      "[0, 2, 3, 4, 5, 6]\n",
      "[1, 2, 3, 4, 5, 6]\n",
      "[0, 1, 2, 3, 4, 5, 6]\n"
     ]
    }
   ],
   "source": [
    "from itertools import combinations\n",
    "import numpy as np\n",
    "\n",
    "for n in range(1,N+1):\n",
    "    for i_list in combinations(np.arange(N), n):\n",
    "        \n",
    "        print(list(i_list))\n",
    "        "
   ]
  },
  {
   "cell_type": "code",
   "execution_count": 8,
   "metadata": {},
   "outputs": [],
   "source": [
    "# We will use this loop to find the maximum weight w_max and cost c_max for a list of items i_list staying under w_capacity"
   ]
  },
  {
   "cell_type": "code",
   "execution_count": 45,
   "metadata": {},
   "outputs": [],
   "source": [
    "def knapsack(file_name,w_capacity):\n",
    "    from itertools import combinations\n",
    "    import numpy as np\n",
    "    \n",
    "    def sum(i_list, p):\n",
    "        sum_p=0\n",
    "        for item in (i_list):\n",
    "            sum_p+=p[item]\n",
    "        return(int(sum_p))\n",
    "    \n",
    "    c,w=import_file(file_name)\n",
    "    N=len(c)\n",
    "    c_max=0\n",
    "    w_max=0\n",
    "    max_list=[]\n",
    "    \n",
    "    for n in range(1,N+1):  # for groups of items from 1 to N\n",
    "        for i_list in combinations(np.arange(N), n): # allcombinations of n items\n",
    "            \n",
    "            if sum(list(i_list),w)<=w_capacity: # if the weight of the current list of items is within the weight capacity\n",
    "                if sum(list(i_list),c)>c_max:  # if the cost of the current list of items is more than the max cost found so far\n",
    "\n",
    "                    c_max=sum(list(i_list),c)  #c_max updated the cost of the current list of items\n",
    "                    w_max=sum(list(i_list),w)  #w_max upated to the weifht of the current items\n",
    "                    max_list=list(i_list)\n",
    "                    print(list(i_list), sum(list(i_list),w), sum(list(i_list),c))\n",
    "\n",
    "    return(max_list, c_max, w_max)"
   ]
  },
  {
   "cell_type": "code",
   "execution_count": 46,
   "metadata": {},
   "outputs": [
    {
     "name": "stdout",
     "output_type": "stream",
     "text": [
      "   cost  weight\n",
      "0    35      12\n",
      "1    85      27\n",
      "2    30      10\n",
      "3    50      17\n",
      "4    70      20\n",
      "5    80      10\n",
      "6    55      15\n",
      "[0] 12 35\n",
      "[1] 27 85\n",
      "[0, 5] 22 115\n",
      "[3, 5] 27 130\n",
      "[4, 5] 30 150\n"
     ]
    }
   ],
   "source": [
    "max_list=[]\n",
    "max_list, c_max, w_max=knapsack(\"small_data.txt\", 30)"
   ]
  },
  {
   "cell_type": "code",
   "execution_count": 11,
   "metadata": {},
   "outputs": [
    {
     "name": "stdout",
     "output_type": "stream",
     "text": [
      "[4, 5] 30 150\n"
     ]
    }
   ],
   "source": [
    "print(max_list, w_max, c_max)"
   ]
  },
  {
   "cell_type": "code",
   "execution_count": 12,
   "metadata": {},
   "outputs": [],
   "source": [
    "# Looking at the landscape of values within the weight constraint"
   ]
  },
  {
   "cell_type": "code",
   "execution_count": 47,
   "metadata": {},
   "outputs": [],
   "source": [
    "def plot_knapsack(file_name,w_capacity):\n",
    "    from itertools import combinations\n",
    "    import numpy as np\n",
    "    import matplotlib.pyplot as plt\n",
    "    \n",
    "    def sum(i_list, p):\n",
    "        sum_p=0\n",
    "        for item in (i_list):\n",
    "            sum_p+=p[item]\n",
    "        return(int(sum_p))\n",
    "    \n",
    "    c,w=import_file(file_name)\n",
    "    N=len(c)\n",
    "    c_max=0\n",
    "    w_max=0\n",
    "    max_list=[]\n",
    "    \n",
    "    plot_w=[]\n",
    "    plot_c=[]\n",
    "    \n",
    "    for n in range(1,N):  # for groups of items from 1 to N\n",
    "        for i_list in combinations(np.arange(N), n): # allcombinations of n items\n",
    "            \n",
    "            if sum(list(i_list),w)<=w_capacity: # if the weight of the current list of items is within the weight capacity\n",
    "                if sum(list(i_list),c)>c_max:  # if the cost of the current list of items is more than the max cost found so far\n",
    "\n",
    "                    plot_c.append(sum(list(i_list),c))  #c_max updated the cost of the current list of items\n",
    "                    plot_w.append(sum(list(i_list),w))  #w_max upated to the weifht of the current items\n",
    "                    max_list=list(i_list)\n",
    "                    print(list(i_list), sum(list(i_list),w), sum(list(i_list),c))\n",
    "    plt.plot(plot_c)\n",
    "    plt.ylabel('cost with constraint')\n",
    "    plt.show()\n",
    "    plt.plot(plot_w)\n",
    "    plt.ylabel('weight with constraint')\n",
    "    plt.show()\n",
    "    return"
   ]
  },
  {
   "cell_type": "code",
   "execution_count": 48,
   "metadata": {},
   "outputs": [
    {
     "name": "stdout",
     "output_type": "stream",
     "text": [
      "   cost  weight\n",
      "0    35      12\n",
      "1    85      27\n",
      "2    30      10\n",
      "3    50      17\n",
      "4    70      20\n",
      "5    80      10\n",
      "6    55      15\n",
      "[0] 12 35\n",
      "[1] 27 85\n",
      "[2] 10 30\n",
      "[3] 17 50\n",
      "[4] 20 70\n",
      "[5] 10 80\n",
      "[6] 15 55\n",
      "[0, 2] 22 65\n",
      "[0, 3] 29 85\n",
      "[0, 5] 22 115\n",
      "[0, 6] 27 90\n",
      "[2, 3] 27 80\n",
      "[2, 4] 30 100\n",
      "[2, 5] 20 110\n",
      "[2, 6] 25 85\n",
      "[3, 5] 27 130\n",
      "[4, 5] 30 150\n",
      "[5, 6] 25 135\n"
     ]
    },
    {
     "data": {
      "image/png": "[encoded data removed]",
      "text/plain": [
       "<Figure size 432x288 with 1 Axes>"
      ]
     },
     "metadata": {
      "needs_background": "light"
     },
     "output_type": "display_data"
    },
    {
     "data": {
      "image/png": "[encoded data removed]",
      "text/plain": [
       "<Figure size 432x288 with 1 Axes>"
      ]
     },
     "metadata": {
      "needs_background": "light"
     },
     "output_type": "display_data"
    }
   ],
   "source": [
    "plot_knapsack(\"small_data.txt\", 30)"
   ]
  },
  {
   "cell_type": "code",
   "execution_count": 15,
   "metadata": {},
   "outputs": [],
   "source": [
    "# Now look at the whole landscape excluding the weight constraint"
   ]
  },
  {
   "cell_type": "code",
   "execution_count": 49,
   "metadata": {},
   "outputs": [],
   "source": [
    "def plot_all(file_name):\n",
    "    from itertools import combinations\n",
    "    import numpy as np\n",
    "    import matplotlib.pyplot as plt\n",
    "    \n",
    "    def sum(i_list, p):\n",
    "        sum_p=0\n",
    "        for item in (i_list):\n",
    "            sum_p+=p[item]\n",
    "        return(int(sum_p))\n",
    "    \n",
    "    c,w=import_file(file_name)\n",
    "    N=len(c)\n",
    "    c_max=0\n",
    "    w_max=0\n",
    "    max_list=[]\n",
    "    \n",
    "    plot_w=[]\n",
    "    plot_c=[]\n",
    "    \n",
    "    for n in range(1,N):  # for groups of items from 1 to N\n",
    "        for i_list in combinations(np.arange(N), n): # allcombinations of n items\n",
    "            \n",
    "            \n",
    "            \n",
    "            plot_c.append(sum(list(i_list),c))  #c_max updated the cost of the current list of items\n",
    "            plot_w.append(sum(list(i_list),w))  #w_max upated to the weifht of the current items\n",
    "            max_list=list(i_list)\n",
    "            print(list(i_list), sum(list(i_list),w), sum(list(i_list),c))\n",
    "    plt.plot(plot_c)\n",
    "    plt.ylabel('cost without constraint')\n",
    "    plt.show()\n",
    "    plt.plot(plot_w)\n",
    "    plt.ylabel('weight without constraint')\n",
    "    plt.show()\n",
    "    return"
   ]
  },
  {
   "cell_type": "code",
   "execution_count": 50,
   "metadata": {},
   "outputs": [
    {
     "name": "stdout",
     "output_type": "stream",
     "text": [
      "   cost  weight\n",
      "0    35      12\n",
      "1    85      27\n",
      "2    30      10\n",
      "3    50      17\n",
      "4    70      20\n",
      "5    80      10\n",
      "6    55      15\n",
      "[0] 12 35\n",
      "[1] 27 85\n",
      "[2] 10 30\n",
      "[3] 17 50\n",
      "[4] 20 70\n",
      "[5] 10 80\n",
      "[6] 15 55\n",
      "[0, 1] 39 120\n",
      "[0, 2] 22 65\n",
      "[0, 3] 29 85\n",
      "[0, 4] 32 105\n",
      "[0, 5] 22 115\n",
      "[0, 6] 27 90\n",
      "[1, 2] 37 115\n",
      "[1, 3] 44 135\n",
      "[1, 4] 47 155\n",
      "[1, 5] 37 165\n",
      "[1, 6] 42 140\n",
      "[2, 3] 27 80\n",
      "[2, 4] 30 100\n",
      "[2, 5] 20 110\n",
      "[2, 6] 25 85\n",
      "[3, 4] 37 120\n",
      "[3, 5] 27 130\n",
      "[3, 6] 32 105\n",
      "[4, 5] 30 150\n",
      "[4, 6] 35 125\n",
      "[5, 6] 25 135\n",
      "[0, 1, 2] 49 150\n",
      "[0, 1, 3] 56 170\n",
      "[0, 1, 4] 59 190\n",
      "[0, 1, 5] 49 200\n",
      "[0, 1, 6] 54 175\n",
      "[0, 2, 3] 39 115\n",
      "[0, 2, 4] 42 135\n",
      "[0, 2, 5] 32 145\n",
      "[0, 2, 6] 37 120\n",
      "[0, 3, 4] 49 155\n",
      "[0, 3, 5] 39 165\n",
      "[0, 3, 6] 44 140\n",
      "[0, 4, 5] 42 185\n",
      "[0, 4, 6] 47 160\n",
      "[0, 5, 6] 37 170\n",
      "[1, 2, 3] 54 165\n",
      "[1, 2, 4] 57 185\n",
      "[1, 2, 5] 47 195\n",
      "[1, 2, 6] 52 170\n",
      "[1, 3, 4] 64 205\n",
      "[1, 3, 5] 54 215\n",
      "[1, 3, 6] 59 190\n",
      "[1, 4, 5] 57 235\n",
      "[1, 4, 6] 62 210\n",
      "[1, 5, 6] 52 220\n",
      "[2, 3, 4] 47 150\n",
      "[2, 3, 5] 37 160\n",
      "[2, 3, 6] 42 135\n",
      "[2, 4, 5] 40 180\n",
      "[2, 4, 6] 45 155\n",
      "[2, 5, 6] 35 165\n",
      "[3, 4, 5] 47 200\n",
      "[3, 4, 6] 52 175\n",
      "[3, 5, 6] 42 185\n",
      "[4, 5, 6] 45 205\n",
      "[0, 1, 2, 3] 66 200\n",
      "[0, 1, 2, 4] 69 220\n",
      "[0, 1, 2, 5] 59 230\n",
      "[0, 1, 2, 6] 64 205\n",
      "[0, 1, 3, 4] 76 240\n",
      "[0, 1, 3, 5] 66 250\n",
      "[0, 1, 3, 6] 71 225\n",
      "[0, 1, 4, 5] 69 270\n",
      "[0, 1, 4, 6] 74 245\n",
      "[0, 1, 5, 6] 64 255\n",
      "[0, 2, 3, 4] 59 185\n",
      "[0, 2, 3, 5] 49 195\n",
      "[0, 2, 3, 6] 54 170\n",
      "[0, 2, 4, 5] 52 215\n",
      "[0, 2, 4, 6] 57 190\n",
      "[0, 2, 5, 6] 47 200\n",
      "[0, 3, 4, 5] 59 235\n",
      "[0, 3, 4, 6] 64 210\n",
      "[0, 3, 5, 6] 54 220\n",
      "[0, 4, 5, 6] 57 240\n",
      "[1, 2, 3, 4] 74 235\n",
      "[1, 2, 3, 5] 64 245\n",
      "[1, 2, 3, 6] 69 220\n",
      "[1, 2, 4, 5] 67 265\n",
      "[1, 2, 4, 6] 72 240\n",
      "[1, 2, 5, 6] 62 250\n",
      "[1, 3, 4, 5] 74 285\n",
      "[1, 3, 4, 6] 79 260\n",
      "[1, 3, 5, 6] 69 270\n",
      "[1, 4, 5, 6] 72 290\n",
      "[2, 3, 4, 5] 57 230\n",
      "[2, 3, 4, 6] 62 205\n",
      "[2, 3, 5, 6] 52 215\n",
      "[2, 4, 5, 6] 55 235\n",
      "[3, 4, 5, 6] 62 255\n",
      "[0, 1, 2, 3, 4] 86 270\n",
      "[0, 1, 2, 3, 5] 76 280\n",
      "[0, 1, 2, 3, 6] 81 255\n",
      "[0, 1, 2, 4, 5] 79 300\n",
      "[0, 1, 2, 4, 6] 84 275\n",
      "[0, 1, 2, 5, 6] 74 285\n",
      "[0, 1, 3, 4, 5] 86 320\n",
      "[0, 1, 3, 4, 6] 91 295\n",
      "[0, 1, 3, 5, 6] 81 305\n",
      "[0, 1, 4, 5, 6] 84 325\n",
      "[0, 2, 3, 4, 5] 69 265\n",
      "[0, 2, 3, 4, 6] 74 240\n",
      "[0, 2, 3, 5, 6] 64 250\n",
      "[0, 2, 4, 5, 6] 67 270\n",
      "[0, 3, 4, 5, 6] 74 290\n",
      "[1, 2, 3, 4, 5] 84 315\n",
      "[1, 2, 3, 4, 6] 89 290\n",
      "[1, 2, 3, 5, 6] 79 300\n",
      "[1, 2, 4, 5, 6] 82 320\n",
      "[1, 3, 4, 5, 6] 89 340\n",
      "[2, 3, 4, 5, 6] 72 285\n",
      "[0, 1, 2, 3, 4, 5] 96 350\n",
      "[0, 1, 2, 3, 4, 6] 101 325\n",
      "[0, 1, 2, 3, 5, 6] 91 335\n",
      "[0, 1, 2, 4, 5, 6] 94 355\n",
      "[0, 1, 3, 4, 5, 6] 101 375\n",
      "[0, 2, 3, 4, 5, 6] 84 320\n",
      "[1, 2, 3, 4, 5, 6] 99 370\n"
     ]
    },
    {
     "data": {
      "image/png": "[encoded data removed]",
      "text/plain": [
       "<Figure size 432x288 with 1 Axes>"
      ]
     },
     "metadata": {
      "needs_background": "light"
     },
     "output_type": "display_data"
    },
    {
     "data": {
      "image/png": "[encoded data removed]",
      "text/plain": [
       "<Figure size 432x288 with 1 Axes>"
      ]
     },
     "metadata": {
      "needs_background": "light"
     },
     "output_type": "display_data"
    }
   ],
   "source": [
    "plot_all(\"small_data.txt\")"
   ]
  },
  {
   "cell_type": "code",
   "execution_count": 18,
   "metadata": {},
   "outputs": [],
   "source": [
    "##### Now it is time to move to creating a QUBO - Quadratic Unconstrained Binary Optimization version of this problem"
   ]
  },
  {
   "cell_type": "code",
   "execution_count": 19,
   "metadata": {},
   "outputs": [],
   "source": [
    "# The first and most necessary step is to negate the problem. Since we will not be maximizing cost, but we will need to find\n",
    "# the minimum cost.  Since DWave only finds the lowest energy value, it is important to create a formulation where\n",
    "# the answer is at a minimum"
   ]
  },
  {
   "cell_type": "code",
   "execution_count": 51,
   "metadata": {},
   "outputs": [],
   "source": [
    "def plot_all_neg(file_name):\n",
    "    from itertools import combinations\n",
    "    import numpy as np\n",
    "    import matplotlib.pyplot as plt\n",
    "    \n",
    "    def sum(i_list, p):\n",
    "        sum_p=0\n",
    "        for item in (i_list):\n",
    "            sum_p+=p[item]\n",
    "        return(int(sum_p))\n",
    "    \n",
    "    c,w=import_file(file_name)\n",
    "    \n",
    "    N=len(c)\n",
    "    for i in range (N):       #negating the cost values\n",
    "        c[i]=-c[i]\n",
    "    c_max=0\n",
    "    w_max=0\n",
    "    max_list=[]\n",
    "    \n",
    "    plot_w=[]\n",
    "    plot_c=[]\n",
    "    \n",
    "    for n in range(1,N):  # for groups of items from 1 to N\n",
    "        for i_list in combinations(np.arange(N), n): # allcombinations of n items\n",
    "            \n",
    "            \n",
    "            \n",
    "            plot_c.append(sum(list(i_list),c))  #c_max updated the cost of the current list of items\n",
    "            plot_w.append(sum(list(i_list),w))  #w_max upated to the weifht of the current items\n",
    "            max_list=list(i_list)\n",
    "            print(list(i_list), sum(list(i_list),w), sum(list(i_list),c))\n",
    "    plt.plot(plot_c)\n",
    "    plt.ylabel('cost without constraint')\n",
    "    plt.show()\n",
    "    plt.plot(plot_w)\n",
    "    plt.ylabel('weight without constraint')\n",
    "    plt.show()\n",
    "    return"
   ]
  },
  {
   "cell_type": "code",
   "execution_count": 52,
   "metadata": {},
   "outputs": [
    {
     "name": "stdout",
     "output_type": "stream",
     "text": [
      "   cost  weight\n",
      "0    35      12\n",
      "1    85      27\n",
      "2    30      10\n",
      "3    50      17\n",
      "4    70      20\n",
      "5    80      10\n",
      "6    55      15\n",
      "[0] 12 -35\n",
      "[1] 27 -85\n",
      "[2] 10 -30\n",
      "[3] 17 -50\n",
      "[4] 20 -70\n",
      "[5] 10 -80\n",
      "[6] 15 -55\n",
      "[0, 1] 39 -120\n",
      "[0, 2] 22 -65\n",
      "[0, 3] 29 -85\n",
      "[0, 4] 32 -105\n",
      "[0, 5] 22 -115\n",
      "[0, 6] 27 -90\n",
      "[1, 2] 37 -115\n",
      "[1, 3] 44 -135\n",
      "[1, 4] 47 -155\n",
      "[1, 5] 37 -165\n",
      "[1, 6] 42 -140\n",
      "[2, 3] 27 -80\n",
      "[2, 4] 30 -100\n",
      "[2, 5] 20 -110\n",
      "[2, 6] 25 -85\n",
      "[3, 4] 37 -120\n",
      "[3, 5] 27 -130\n",
      "[3, 6] 32 -105\n",
      "[4, 5] 30 -150\n",
      "[4, 6] 35 -125\n",
      "[5, 6] 25 -135\n",
      "[0, 1, 2] 49 -150\n",
      "[0, 1, 3] 56 -170\n",
      "[0, 1, 4] 59 -190\n",
      "[0, 1, 5] 49 -200\n",
      "[0, 1, 6] 54 -175\n",
      "[0, 2, 3] 39 -115\n",
      "[0, 2, 4] 42 -135\n",
      "[0, 2, 5] 32 -145\n",
      "[0, 2, 6] 37 -120\n",
      "[0, 3, 4] 49 -155\n",
      "[0, 3, 5] 39 -165\n",
      "[0, 3, 6] 44 -140\n",
      "[0, 4, 5] 42 -185\n",
      "[0, 4, 6] 47 -160\n",
      "[0, 5, 6] 37 -170\n",
      "[1, 2, 3] 54 -165\n",
      "[1, 2, 4] 57 -185\n",
      "[1, 2, 5] 47 -195\n",
      "[1, 2, 6] 52 -170\n",
      "[1, 3, 4] 64 -205\n",
      "[1, 3, 5] 54 -215\n",
      "[1, 3, 6] 59 -190\n",
      "[1, 4, 5] 57 -235\n",
      "[1, 4, 6] 62 -210\n",
      "[1, 5, 6] 52 -220\n",
      "[2, 3, 4] 47 -150\n",
      "[2, 3, 5] 37 -160\n",
      "[2, 3, 6] 42 -135\n",
      "[2, 4, 5] 40 -180\n",
      "[2, 4, 6] 45 -155\n",
      "[2, 5, 6] 35 -165\n",
      "[3, 4, 5] 47 -200\n",
      "[3, 4, 6] 52 -175\n",
      "[3, 5, 6] 42 -185\n",
      "[4, 5, 6] 45 -205\n",
      "[0, 1, 2, 3] 66 -200\n",
      "[0, 1, 2, 4] 69 -220\n",
      "[0, 1, 2, 5] 59 -230\n",
      "[0, 1, 2, 6] 64 -205\n",
      "[0, 1, 3, 4] 76 -240\n",
      "[0, 1, 3, 5] 66 -250\n",
      "[0, 1, 3, 6] 71 -225\n",
      "[0, 1, 4, 5] 69 -270\n",
      "[0, 1, 4, 6] 74 -245\n",
      "[0, 1, 5, 6] 64 -255\n",
      "[0, 2, 3, 4] 59 -185\n",
      "[0, 2, 3, 5] 49 -195\n",
      "[0, 2, 3, 6] 54 -170\n",
      "[0, 2, 4, 5] 52 -215\n",
      "[0, 2, 4, 6] 57 -190\n",
      "[0, 2, 5, 6] 47 -200\n",
      "[0, 3, 4, 5] 59 -235\n",
      "[0, 3, 4, 6] 64 -210\n",
      "[0, 3, 5, 6] 54 -220\n",
      "[0, 4, 5, 6] 57 -240\n",
      "[1, 2, 3, 4] 74 -235\n",
      "[1, 2, 3, 5] 64 -245\n",
      "[1, 2, 3, 6] 69 -220\n",
      "[1, 2, 4, 5] 67 -265\n",
      "[1, 2, 4, 6] 72 -240\n",
      "[1, 2, 5, 6] 62 -250\n",
      "[1, 3, 4, 5] 74 -285\n",
      "[1, 3, 4, 6] 79 -260\n",
      "[1, 3, 5, 6] 69 -270\n",
      "[1, 4, 5, 6] 72 -290\n",
      "[2, 3, 4, 5] 57 -230\n",
      "[2, 3, 4, 6] 62 -205\n",
      "[2, 3, 5, 6] 52 -215\n",
      "[2, 4, 5, 6] 55 -235\n",
      "[3, 4, 5, 6] 62 -255\n",
      "[0, 1, 2, 3, 4] 86 -270\n",
      "[0, 1, 2, 3, 5] 76 -280\n",
      "[0, 1, 2, 3, 6] 81 -255\n",
      "[0, 1, 2, 4, 5] 79 -300\n",
      "[0, 1, 2, 4, 6] 84 -275\n",
      "[0, 1, 2, 5, 6] 74 -285\n",
      "[0, 1, 3, 4, 5] 86 -320\n",
      "[0, 1, 3, 4, 6] 91 -295\n",
      "[0, 1, 3, 5, 6] 81 -305\n",
      "[0, 1, 4, 5, 6] 84 -325\n",
      "[0, 2, 3, 4, 5] 69 -265\n",
      "[0, 2, 3, 4, 6] 74 -240\n",
      "[0, 2, 3, 5, 6] 64 -250\n",
      "[0, 2, 4, 5, 6] 67 -270\n",
      "[0, 3, 4, 5, 6] 74 -290\n",
      "[1, 2, 3, 4, 5] 84 -315\n",
      "[1, 2, 3, 4, 6] 89 -290\n",
      "[1, 2, 3, 5, 6] 79 -300\n",
      "[1, 2, 4, 5, 6] 82 -320\n",
      "[1, 3, 4, 5, 6] 89 -340\n",
      "[2, 3, 4, 5, 6] 72 -285\n",
      "[0, 1, 2, 3, 4, 5] 96 -350\n",
      "[0, 1, 2, 3, 4, 6] 101 -325\n",
      "[0, 1, 2, 3, 5, 6] 91 -335\n",
      "[0, 1, 2, 4, 5, 6] 94 -355\n",
      "[0, 1, 3, 4, 5, 6] 101 -375\n",
      "[0, 2, 3, 4, 5, 6] 84 -320\n",
      "[1, 2, 3, 4, 5, 6] 99 -370\n"
     ]
    },
    {
     "data": {
      "image/png": "[encoded data removed]",
      "text/plain": [
       "<Figure size 432x288 with 1 Axes>"
      ]
     },
     "metadata": {
      "needs_background": "light"
     },
     "output_type": "display_data"
    },
    {
     "data": {
      "image/png": "[encoded data removed]",
      "text/plain": [
       "<Figure size 432x288 with 1 Axes>"
      ]
     },
     "metadata": {
      "needs_background": "light"
     },
     "output_type": "display_data"
    }
   ],
   "source": [
    "plot_all_neg(\"small_data.txt\")"
   ]
  },
  {
   "cell_type": "code",
   "execution_count": 53,
   "metadata": {},
   "outputs": [],
   "source": [
    "def plot_knapsack_neg(file_name,w_capacity):\n",
    "    from itertools import combinations\n",
    "    import numpy as np\n",
    "    import matplotlib.pyplot as plt\n",
    "    \n",
    "    def sum(i_list, p):\n",
    "        sum_p=0\n",
    "        for item in (i_list):\n",
    "            sum_p+=p[item]\n",
    "        return(int(sum_p))\n",
    "    \n",
    "    c,w=import_file(file_name)\n",
    "    N=len(c)\n",
    "    for i in range (N):\n",
    "        c[i]=-c[i]\n",
    "    \n",
    "    c_min=0  # removed c_max\n",
    "    w_max=0\n",
    "    max_list=[]\n",
    "    \n",
    "    plot_w=[]\n",
    "    plot_c=[]\n",
    "    \n",
    "    for n in range(1,N):  # for groups of items from 1 to N\n",
    "        for i_list in combinations(np.arange(N), n): \n",
    "            \n",
    "            if sum(list(i_list),w)<=w_capacity: \n",
    "                if sum(list(i_list),c)<c_min:  # looking for lower values now\n",
    "\n",
    "                    plot_c.append(sum(list(i_list),c))  \n",
    "                    plot_w.append(sum(list(i_list),w))  \n",
    "                    max_list=list(i_list)\n",
    "                    print(list(i_list), sum(list(i_list),w), sum(list(i_list),c))\n",
    "    plt.plot(plot_c)\n",
    "    plt.ylabel('cost with constraint')\n",
    "    plt.show()\n",
    "    plt.plot(plot_w)\n",
    "    plt.ylabel('weight with constraint')\n",
    "    plt.show()\n",
    "    return"
   ]
  },
  {
   "cell_type": "code",
   "execution_count": 54,
   "metadata": {},
   "outputs": [
    {
     "name": "stdout",
     "output_type": "stream",
     "text": [
      "   cost  weight\n",
      "0    35      12\n",
      "1    85      27\n",
      "2    30      10\n",
      "3    50      17\n",
      "4    70      20\n",
      "5    80      10\n",
      "6    55      15\n",
      "[0] 12 -35\n",
      "[1] 27 -85\n",
      "[2] 10 -30\n",
      "[3] 17 -50\n",
      "[4] 20 -70\n",
      "[5] 10 -80\n",
      "[6] 15 -55\n",
      "[0, 1] 39 -120\n",
      "[0, 2] 22 -65\n",
      "[0, 3] 29 -85\n",
      "[0, 4] 32 -105\n",
      "[0, 5] 22 -115\n",
      "[0, 6] 27 -90\n",
      "[1, 2] 37 -115\n",
      "[1, 3] 44 -135\n",
      "[1, 4] 47 -155\n",
      "[1, 5] 37 -165\n",
      "[1, 6] 42 -140\n",
      "[2, 3] 27 -80\n",
      "[2, 4] 30 -100\n",
      "[2, 5] 20 -110\n",
      "[2, 6] 25 -85\n",
      "[3, 4] 37 -120\n",
      "[3, 5] 27 -130\n",
      "[3, 6] 32 -105\n",
      "[4, 5] 30 -150\n",
      "[4, 6] 35 -125\n",
      "[5, 6] 25 -135\n",
      "[0, 1, 2] 49 -150\n",
      "[0, 1, 5] 49 -200\n",
      "[0, 2, 3] 39 -115\n",
      "[0, 2, 4] 42 -135\n",
      "[0, 2, 5] 32 -145\n",
      "[0, 2, 6] 37 -120\n",
      "[0, 3, 4] 49 -155\n",
      "[0, 3, 5] 39 -165\n",
      "[0, 3, 6] 44 -140\n",
      "[0, 4, 5] 42 -185\n",
      "[0, 4, 6] 47 -160\n",
      "[0, 5, 6] 37 -170\n",
      "[1, 2, 5] 47 -195\n",
      "[2, 3, 4] 47 -150\n",
      "[2, 3, 5] 37 -160\n",
      "[2, 3, 6] 42 -135\n",
      "[2, 4, 5] 40 -180\n",
      "[2, 4, 6] 45 -155\n",
      "[2, 5, 6] 35 -165\n",
      "[3, 4, 5] 47 -200\n",
      "[3, 5, 6] 42 -185\n",
      "[4, 5, 6] 45 -205\n",
      "[0, 2, 3, 5] 49 -195\n",
      "[0, 2, 5, 6] 47 -200\n"
     ]
    },
    {
     "data": {
      "image/png": "[encoded data removed]",
      "text/plain": [
       "<Figure size 432x288 with 1 Axes>"
      ]
     },
     "metadata": {
      "needs_background": "light"
     },
     "output_type": "display_data"
    },
    {
     "data": {
      "image/png": "[encoded data removed]",
      "text/plain": [
       "<Figure size 432x288 with 1 Axes>"
      ]
     },
     "metadata": {
      "needs_background": "light"
     },
     "output_type": "display_data"
    }
   ],
   "source": [
    "plot_knapsack_neg(\"small_data.txt\", 50)"
   ]
  },
  {
   "cell_type": "code",
   "execution_count": 55,
   "metadata": {},
   "outputs": [],
   "source": [
    "# How do we build a QUBO that will retain this property. It needs to find item combinations with the lowest cost, \n",
    "# without violating the weight constraints"
   ]
  },
  {
   "cell_type": "code",
   "execution_count": 56,
   "metadata": {},
   "outputs": [],
   "source": [
    "# Lets start with just placing the cost which we are trying to minimize on the diagonal values of a matrix\n",
    "# and we can place the weights on the non-diagonal terms. \n",
    "\n",
    "# This matrix will be the cost that adds up as each item is added. We will keep the cost negative to minimize this."
   ]
  },
  {
   "cell_type": "code",
   "execution_count": 57,
   "metadata": {},
   "outputs": [],
   "source": [
    "N=len(c)\n",
    "Mc = np.zeros([N,N],dtype=float)\n",
    "for i in range(N):\n",
    "    Mc[i][i] =-c[i]"
   ]
  },
  {
   "cell_type": "code",
   "execution_count": 58,
   "metadata": {},
   "outputs": [
    {
     "name": "stdout",
     "output_type": "stream",
     "text": [
      "[[-35.   0.   0.   0.   0.   0.   0.]\n",
      " [  0. -85.   0.   0.   0.   0.   0.]\n",
      " [  0.   0. -30.   0.   0.   0.   0.]\n",
      " [  0.   0.   0. -50.   0.   0.   0.]\n",
      " [  0.   0.   0.   0. -70.   0.   0.]\n",
      " [  0.   0.   0.   0.   0. -80.   0.]\n",
      " [  0.   0.   0.   0.   0.   0. -55.]]\n"
     ]
    }
   ],
   "source": [
    "print(Mc)"
   ]
  },
  {
   "cell_type": "code",
   "execution_count": 26,
   "metadata": {},
   "outputs": [],
   "source": [
    "# Since adding each item results in a weight, it is important to find a matrix which can represent the weight\n",
    "# contribution for the items selected"
   ]
  },
  {
   "cell_type": "code",
   "execution_count": 59,
   "metadata": {},
   "outputs": [],
   "source": [
    "N=len(c)\n",
    "Mw = np.zeros([N,N],dtype=float)\n",
    "for i in range(N):\n",
    "    Mw[i][i] =w[i]"
   ]
  },
  {
   "cell_type": "code",
   "execution_count": 60,
   "metadata": {},
   "outputs": [
    {
     "name": "stdout",
     "output_type": "stream",
     "text": [
      "[[12.  0.  0.  0.  0.  0.  0.]\n",
      " [ 0. 27.  0.  0.  0.  0.  0.]\n",
      " [ 0.  0. 10.  0.  0.  0.  0.]\n",
      " [ 0.  0.  0. 17.  0.  0.  0.]\n",
      " [ 0.  0.  0.  0. 20.  0.  0.]\n",
      " [ 0.  0.  0.  0.  0. 10.  0.]\n",
      " [ 0.  0.  0.  0.  0.  0. 15.]]\n"
     ]
    }
   ],
   "source": [
    "print(Mw)"
   ]
  },
  {
   "cell_type": "code",
   "execution_count": 29,
   "metadata": {},
   "outputs": [],
   "source": [
    "# How can we find a way to use the weight as a limiting factor as each item is picked. In other words, we want \n",
    "# to use the quadratic terms as a penalty as pairs of items are picked. \n",
    "\n",
    "# We will use the product of the weights and add those to the non-diagonal terms. Since QUBO is only one half of the\n",
    "# Matrix, we will multiply this by 2 (NOTE: if in reality you need both sides of the matrix, multiply by 2 when using in DWave)\n",
    "# Also, since we are adding a product of 2 weights on the non-diagonal terms, we will also add a product of the weight\n",
    "# on the linear terms as well. This is to keep the matrix balanced. "
   ]
  },
  {
   "cell_type": "code",
   "execution_count": 80,
   "metadata": {},
   "outputs": [],
   "source": [
    "N=len(c)\n",
    "Mx = np.zeros([N,N],dtype=float)\n",
    "for i in range(N):\n",
    "    for j in range(N):\n",
    "        if i==j:\n",
    "            Mx[i][i] =3*w[i]**2-c[i]\n",
    "        elif i<j:\n",
    "            Mx[i][j]=-2*w[i]*w[j]"
   ]
  },
  {
   "cell_type": "code",
   "execution_count": 81,
   "metadata": {},
   "outputs": [
    {
     "name": "stdout",
     "output_type": "stream",
     "text": [
      "[[  397.  -648.  -240.  -408.  -480.  -240.  -360.]\n",
      " [    0.  2102.  -540.  -918. -1080.  -540.  -810.]\n",
      " [    0.     0.   270.  -340.  -400.  -200.  -300.]\n",
      " [    0.     0.     0.   817.  -680.  -340.  -510.]\n",
      " [    0.     0.     0.     0.  1130.  -400.  -600.]\n",
      " [    0.     0.     0.     0.     0.   220.  -300.]\n",
      " [    0.     0.     0.     0.     0.     0.   620.]]\n"
     ]
    }
   ],
   "source": [
    "print(Mx)"
   ]
  },
  {
   "cell_type": "code",
   "execution_count": 32,
   "metadata": {},
   "outputs": [],
   "source": [
    "# How would the results of this matrix compare to the classical results. Lets execute the matrix brute force and plot"
   ]
  },
  {
   "cell_type": "code",
   "execution_count": 63,
   "metadata": {},
   "outputs": [],
   "source": [
    "def DWaveSamplerQ(Q,plot_limit):\n",
    "    from itertools import combinations\n",
    "    import numpy as np\n",
    "    \n",
    "    import random\n",
    "    import math\n",
    "    import matplotlib.pyplot as plt\n",
    "    \n",
    "    def nCr(n,r):\n",
    "        f = math.factorial\n",
    "        return int(f(n) / f(r) / f(n-r))\n",
    "    \n",
    "    def random_combination(iterable, r):\n",
    "        \"Random selection from itertools.combinations(iterable, r)\"\n",
    "        pool = tuple(iterable)\n",
    "        n = len(pool)\n",
    "        indices = sorted(random.sample(range(n), r))\n",
    "        return list(tuple(pool[i] for i in indices))\n",
    "    \n",
    "    def sum(i_list, Q):\n",
    "        sum_l=0\n",
    "        sum_q=0\n",
    "        for i in (i_list):\n",
    "            sum_l+=Q[i][i]\n",
    "        for i in (i_list):\n",
    "            for j in (i_list):\n",
    "                if i<j:\n",
    "                    sum_q+=Q[i][j]\n",
    "            \n",
    "        return(sum_l+sum_q)\n",
    "    \n",
    "   \n",
    "    N=len(Q[0])\n",
    "    t= (2**N)-1\n",
    "    \n",
    "    e_min=9999999\n",
    "    count=0\n",
    "    min_list=[]\n",
    "    plot_data=[]\n",
    "    for n in range(1,N):  # for groups of items from 1 to N\n",
    "        comb=nCr(N,n)\n",
    "        #print('--m ', m, comb)\n",
    "        if comb==1:\n",
    "            combf=1\n",
    "        elif comb>plot_limit*2:\n",
    "            combf=plot_limit\n",
    "        else:\n",
    "            combf=int(comb/2)\n",
    "        \n",
    "        for i in range (combf):\n",
    "            i_list=random_combination(range(N), n)\n",
    "            plot_data.append(sum(list(i_list),Q))\n",
    "            \n",
    "            if sum(list(i_list),Q)<e_min:  \n",
    "\n",
    "                    e_min=sum(list(i_list),Q)  \n",
    "                    \n",
    "                    min_list=list(i_list)\n",
    "                    print(list(i_list), sum(list(i_list),Q))\n",
    "            count+=1\n",
    "    plt.plot(plot_data)\n",
    "    plt.ylabel('Energy')\n",
    "    # use if needing log scale on y-axis\n",
    "    #plt.yscale('log')\n",
    "    \n",
    "    plt.show()\n",
    "    print('Best found:', min_list)\n",
    "    print('Energy:', e_min)\n",
    "    print('From:', count, ' samples')\n",
    "    print('Possible solutions:', t)\n",
    "    return\n",
    "\n",
    "def valueQ(i_list, Q):\n",
    "    \n",
    "    N=len(Q[0])\n",
    "    t= (2**N)-1\n",
    "    sum_l=0\n",
    "    sum_q=0\n",
    "    for i in (i_list):\n",
    "        sum_l+=Q[i][i]\n",
    "    for i in (i_list):\n",
    "        for j in (i_list):\n",
    "            if i<j:\n",
    "                sum_q+=Q[i][j]\n",
    "\n",
    "    return(sum_l+sum_q)"
   ]
  },
  {
   "cell_type": "code",
   "execution_count": 82,
   "metadata": {},
   "outputs": [
    {
     "name": "stdout",
     "output_type": "stream",
     "text": [
      "[5] 220.0\n",
      "[0, 2, 5] 207.0\n",
      "[1, 3, 4, 6] 71.0\n",
      "[2, 3, 5, 6] -63.0\n",
      "[0, 2, 3, 5] -64.0\n",
      "[0, 3, 4, 5, 6] -1134.0\n",
      "[0, 1, 2, 3, 4, 5] -2518.0\n",
      "[0, 1, 2, 3, 4, 6] -2978.0\n"
     ]
    },
    {
     "data": {
      "image/png": "[encoded data removed]",
      "text/plain": [
       "<Figure size 432x288 with 1 Axes>"
      ]
     },
     "metadata": {
      "needs_background": "light"
     },
     "output_type": "display_data"
    },
    {
     "name": "stdout",
     "output_type": "stream",
     "text": [
      "Best found: [0, 1, 2, 3, 4, 6]\n",
      "Energy: -2978.0\n",
      "From: 46  samples\n",
      "Possible solutions: 127\n"
     ]
    }
   ],
   "source": [
    "# try what Mc, Mw and Mx looks like\n",
    "DWaveSamplerQ(Mx,10)"
   ]
  },
  {
   "cell_type": "code",
   "execution_count": 35,
   "metadata": {},
   "outputs": [],
   "source": [
    "# How do we constrain weight so that weight does not exceed w_capacity and how do we tie cost and weight together in the qubo "
   ]
  },
  {
   "cell_type": "code",
   "execution_count": 37,
   "metadata": {},
   "outputs": [],
   "source": [
    "# We will add x terms for the items, and y terms for a weight counter.  \n",
    "\n",
    "#    x0,x1,x2.....xN,y0,y1,..yM\n",
    "# x0\n",
    "# .\n",
    "# .\n",
    "# .\n",
    "# xN\n",
    "# y0\n",
    "# .\n",
    "# .\n",
    "# yM"
   ]
  },
  {
   "cell_type": "code",
   "execution_count": 83,
   "metadata": {},
   "outputs": [],
   "source": [
    "def knapsack_matrix(costs, weights, weight_capacity):\n",
    "    from math import log, ceil\n",
    "    \n",
    "\n",
    "    # Initialize BQM - use large-capacity BQM so that the problem can be\n",
    "    # scaled by the user.\n",
    "    #bqm = dimod.AdjVectorBQM(dimod.Vartype.BINARY)\n",
    "\n",
    "    # Lagrangian multiplier\n",
    "    # First guess as suggested in Lucas's paper\n",
    "    lagrange = max(costs)\n",
    "\n",
    "    # Number of objects\n",
    "    x_size = len(costs)\n",
    "    \n",
    "    \n",
    "    \n",
    "    \n",
    "    # Lucas's algorithm introduces additional slack variables to handle\n",
    "    # the inequality. max_y_index indicates the maximum index in the y\n",
    "    # sum; hence the number of slack variables.\n",
    "    max_y_index = ceil(log(weight_capacity))\n",
    "    \n",
    "    M=[[0. for i in range(x_size+max_y_index)] for j in range(x_size+max_y_index)]\n",
    "    \n",
    "    \n",
    "    # Slack variable list for Lucas's algorithm. The last variable has\n",
    "    # a special value because it terminates the sequence.\n",
    "    y = [2**n for n in range(max_y_index - 1)]\n",
    "    y.append(weight_capacity + 1 - 2**(max_y_index - 1))\n",
    "\n",
    "    # Hamiltonian xi-xi terms <---- These are the linear terms for each item\n",
    "    for k in range(x_size):\n",
    "        #bqm.set_linear('x' + str(k), lagrange * (weights[k]**2) - costs[k])\n",
    "        M[k][k]=lagrange * (weights[k]**2) - costs[k]\n",
    "\n",
    "    # Hamiltonian xi-xj terms  <------ These are the quadratic terms for each item\n",
    "    for i in range(x_size):\n",
    "        for j in range(i + 1, x_size):\n",
    "            M[i][j] = 2 * lagrange * weights[i] * weights[j]\n",
    "   \n",
    "    \n",
    "    \n",
    "    # Hamiltonian y-y terms  <------ These are teh linear terms for the weight penalty\n",
    "    for k in range(max_y_index):\n",
    "        M[k+x_size][k+x_size]= lagrange * (y[k]**2)\n",
    "\n",
    "    # Hamiltonian yi-yj terms <------These are the quadratic terms for the weight penalty\n",
    "    for i in range(max_y_index):\n",
    "        for j in range(i + 1, max_y_index):\n",
    "            #print(2 * lagrange * y[i] * y[j])\n",
    "            M[i+x_size][j+x_size] = 2 * lagrange * y[i] * y[j]\n",
    "    \n",
    "    \n",
    "    \n",
    "    # Hamiltonian x-y terms   <----------These terms connect the items to the weight penalty\n",
    "    for i in range(x_size):\n",
    "        for j in range(max_y_index):\n",
    "            #print(i,j)\n",
    "            M[i][j+x_size] = -2 * lagrange * weights[i] * y[j]\n",
    "\n",
    "    print('weight penalty values',y)        \n",
    "    return (M)"
   ]
  },
  {
   "cell_type": "code",
   "execution_count": 84,
   "metadata": {},
   "outputs": [
    {
     "name": "stdout",
     "output_type": "stream",
     "text": [
      "weight penalty values [1, 2, 4, 23]\n"
     ]
    }
   ],
   "source": [
    "#data_file_name = sys.argv[1] if len(sys.argv) > 1 else \"data.txt\"\n",
    "M=[]\n",
    "import pandas as pd\n",
    "data_file_name=\"small_data.txt\"\n",
    "#weight_capacity = float(sys.argv[2]) if len(sys.argv) > 2 else 70\n",
    "weight_capacity=30\n",
    "# parse input data\n",
    "df = pd.read_csv(data_file_name, header=None)\n",
    "df.columns = ['cost', 'weight']\n",
    "\n",
    "#bqm = knapsack_bqm(df['cost'], df['weight'], weight_capacity)\n",
    "M=knapsack_matrix(df['cost'], df['weight'], weight_capacity)"
   ]
  },
  {
   "cell_type": "code",
   "execution_count": 85,
   "metadata": {},
   "outputs": [
    {
     "name": "stdout",
     "output_type": "stream",
     "text": [
      "[[12205, 55080, 20400, 34680, 40800, 20400, 30600, -2040, -4080, -8160, -46920], [0.0, 61880, 45900, 78030, 91800, 45900, 68850, -4590, -9180, -18360, -105570], [0.0, 0.0, 8470, 28900, 34000, 17000, 25500, -1700, -3400, -6800, -39100], [0.0, 0.0, 0.0, 24515, 57800, 28900, 43350, -2890, -5780, -11560, -66470], [0.0, 0.0, 0.0, 0.0, 33930, 34000, 51000, -3400, -6800, -13600, -78200], [0.0, 0.0, 0.0, 0.0, 0.0, 8420, 25500, -1700, -3400, -6800, -39100], [0.0, 0.0, 0.0, 0.0, 0.0, 0.0, 19070, -2550, -5100, -10200, -58650], [0.0, 0.0, 0.0, 0.0, 0.0, 0.0, 0.0, 85, 340, 680, 3910], [0.0, 0.0, 0.0, 0.0, 0.0, 0.0, 0.0, 0.0, 340, 1360, 7820], [0.0, 0.0, 0.0, 0.0, 0.0, 0.0, 0.0, 0.0, 0.0, 1360, 15640], [0.0, 0.0, 0.0, 0.0, 0.0, 0.0, 0.0, 0.0, 0.0, 0.0, 44965]]\n"
     ]
    }
   ],
   "source": [
    "print(M)"
   ]
  },
  {
   "cell_type": "code",
   "execution_count": 86,
   "metadata": {},
   "outputs": [],
   "source": [
    "#         0       1     2       3      4      5      6          7      8     9       10\n",
    "#        x0      x1    x2      x3     x4     x5     x6         y1     y2     y3      y4  \n",
    "#  x0 [[12205, 55080, 20400, 34680, 40800, 20400,  30600,    -2040, -4080, -8160,  -46920], \n",
    "#  x1  [0.0,   61880, 45900, 78030, 91800, 45900,  68850,    -4590, -9180, -18360, -105570], \n",
    "#  x2  [0.0,    0.0,   8470, 28900, 34000, 17000,  25500,    -1700, -3400, -6800,  -39100], \n",
    "#  x3  [0.0,    0.0,   0.0,  24515, 57800, 28900,  43350,    -2890, -5780, -11560, -66470], \n",
    "#  x4  [0.0,    0.0,   0.0,   0.0,  33930, 34000,  51000,    -3400, -6800, -13600, -78200], \n",
    "#  x5  [0.0,    0.0,   0.0,   0.0,   0.0,   8420,  25500,    -1700, -3400, -6800,  -39100], \n",
    "#  x6  [0.0,    0.0,   0.0,   0.0,   0.0,   0.0,   19070,    -2550, -5100, -10200, -58650],\n",
    "\n",
    "#  y1  [0.0,    0.0,   0.0,   0.0,   0.0,   0.0,    0.0,       85,    340,    680,  3910], \n",
    "#  y2  [0.0,    0.0,   0.0,   0.0,   0.0,   0.0,    0.0,       0.0,   340,   1360,  7820], \n",
    "#  y3  [0.0,    0.0,   0.0,   0.0,   0.0,   0.0,    0.0,       0.0,   0.0,   1360,  15640], \n",
    "#  y4  [0.0,    0.0,   0.0,   0.0,   0.0,   0.0,    0.0,       0.0,   0.0,    0.0,  44965]]"
   ]
  },
  {
   "cell_type": "code",
   "execution_count": null,
   "metadata": {},
   "outputs": [],
   "source": [
    "# Questions:\n",
    "# Where are the x linear terms, x quadratic terms, y linear terms, y quadratic terms, and x-y interaction terms?\n",
    "# Can we get lower energy values than the optimal?\n",
    "# Why did we use the lagrange multiplier max (costs)?"
   ]
  },
  {
   "cell_type": "code",
   "execution_count": null,
   "metadata": {},
   "outputs": [],
   "source": [
    "# Qubo requirements:\n",
    "# 1. Sum of the linear and quadratic have to equal the value\n",
    "# 2. As items are picked lower energy values only come from using the y values\n",
    "# 3. As the items fill up, max weight is coded in y4 in such a way that it forces the energy to be too high.\n",
    "# 4. In general we have the right answer if 7,8,9,10 are ALL in the solution.  Why?\n",
    "\n",
    "# These values are quite high.  In actuality, DWave only solves for values between -1 and +1.  \n",
    "# So this matrix is scaled by DWave."
   ]
  },
  {
   "cell_type": "code",
   "execution_count": 88,
   "metadata": {},
   "outputs": [
    {
     "name": "stdout",
     "output_type": "stream",
     "text": [
      "[7] 85\n",
      "[5, 6, 7, 10] -50\n",
      "[0, 6, 9, 10] -90\n"
     ]
    },
    {
     "data": {
      "image/png": "[encoded data removed]",
      "text/plain": [
       "<Figure size 432x288 with 1 Axes>"
      ]
     },
     "metadata": {
      "needs_background": "light"
     },
     "output_type": "display_data"
    },
    {
     "name": "stdout",
     "output_type": "stream",
     "text": [
      "Best found: [0, 6, 9, 10]\n",
      "Energy: -90\n",
      "From: 244  samples\n",
      "Possible solutions: 2047\n"
     ]
    }
   ],
   "source": [
    "DWaveSamplerQ(M,30)"
   ]
  },
  {
   "cell_type": "code",
   "execution_count": null,
   "metadata": {},
   "outputs": [],
   "source": [
    "[6] 19070\n",
    "[8] 340\n",
    "[0, 5, 10] -30\n",
    "[1, 9, 10] -85\n",
    "[3, 5, 9, 10] -130\n",
    "[4, 5, 7, 8, 9, 10] -150\n",
    "\n",
    "Best found: [4, 5, 7, 8, 9, 10]\n",
    "Energy: -150\n",
    "From: 1020  samples\n",
    "Possible solutions: 2047"
   ]
  },
  {
   "attachments": {
    "image.png": {
     "image/png": "[encoded data removed]"
    }
   },
   "cell_type": "markdown",
   "metadata": {},
   "source": [
    "![image.png](attachment:image.png)"
   ]
  },
  {
   "cell_type": "code",
   "execution_count": null,
   "metadata": {},
   "outputs": [],
   "source": [
    "# Lets now Run it on DWave"
   ]
  },
  {
   "cell_type": "code",
   "execution_count": 143,
   "metadata": {},
   "outputs": [],
   "source": [
    "from dwave.system.samplers import DWaveSampler\n",
    "from dwave.system.composites import EmbeddingComposite\n",
    "import dimod"
   ]
  },
  {
   "cell_type": "code",
   "execution_count": 171,
   "metadata": {},
   "outputs": [
    {
     "name": "stdout",
     "output_type": "stream",
     "text": [
      "{('a0', 'a0'): 12205, ('a1', 'a1'): 61880, ('a2', 'a2'): 8470, ('a3', 'a3'): 24515, ('a4', 'a4'): 33930, ('a5', 'a5'): 8420, ('a6', 'a6'): 19070, ('a7', 'a7'): 85, ('a8', 'a8'): 340, ('a9', 'a9'): 1360, ('a10', 'a10'): 44965, ('a1', 'a2'): 45900, ('a1', 'a3'): 78030, ('a1', 'a4'): 91800, ('a1', 'a5'): 45900, ('a1', 'a6'): 68850, ('a1', 'a7'): -4590, ('a1', 'a8'): -9180, ('a1', 'a9'): -18360, ('a1', 'a10'): -105570, ('a2', 'a3'): 28900, ('a2', 'a4'): 34000, ('a2', 'a5'): 17000, ('a2', 'a6'): 25500, ('a2', 'a7'): -1700, ('a2', 'a8'): -3400, ('a2', 'a9'): -6800, ('a2', 'a10'): -39100, ('a3', 'a4'): 57800, ('a3', 'a5'): 28900, ('a3', 'a6'): 43350, ('a3', 'a7'): -2890, ('a3', 'a8'): -5780, ('a3', 'a9'): -11560, ('a3', 'a10'): -66470, ('a4', 'a5'): 34000, ('a4', 'a6'): 51000, ('a4', 'a7'): -3400, ('a4', 'a8'): -6800, ('a4', 'a9'): -13600, ('a4', 'a10'): -78200, ('a5', 'a6'): 25500, ('a5', 'a7'): -1700, ('a5', 'a8'): -3400, ('a5', 'a9'): -6800, ('a5', 'a10'): -39100, ('a6', 'a7'): -2550, ('a6', 'a8'): -5100, ('a6', 'a9'): -10200, ('a6', 'a10'): -58650, ('a7', 'a8'): 340, ('a7', 'a9'): 680, ('a7', 'a10'): 3910, ('a8', 'a9'): 1360, ('a8', 'a10'): 7820, ('a9', 'a10'): 15640}\n"
     ]
    }
   ],
   "source": [
    "dim=len(M)\n",
    "linear={('a'+str(k), 'a'+str(k)):M[k][k] for k in range(dim)}\n",
    "\n",
    "quadratic={('a'+str(i+1), 'a'+str(j)):M[i+1][j] for i in range(dim) for j in range(dim) if j>i+1}\n",
    "QDwave = dict(linear)\n",
    "QDwave.update(quadratic)\n",
    "#QDwave.update('dimod.Vartype.BINARY')\n",
    "print(QDwave)"
   ]
  },
  {
   "cell_type": "code",
   "execution_count": 163,
   "metadata": {},
   "outputs": [
    {
     "name": "stdout",
     "output_type": "stream",
     "text": [
      "   a0 a1 a10 a2 a3 a4 a5 a6 a7 a8 a9  energy num_oc. chain_b.\n",
      "1   0  0   1  1  0  1  0  0  1  1  1  -100.0       1 0.727273\n",
      "5   0  0   1  1  0  1  0  0  1  1  1  -100.0       1 0.727273\n",
      "10  0  0   1  1  0  1  0  0  1  1  1  -100.0       1 0.727273\n",
      "14  0  0   1  1  0  1  0  0  1  1  1  -100.0       1 0.636364\n",
      "15  0  0   1  1  0  1  0  0  1  1  1  -100.0       1 0.727273\n",
      "18  0  0   1  1  0  1  0  0  1  1  1  -100.0       1 0.545455\n",
      "20  0  0   1  1  0  1  0  0  1  1  1  -100.0       1 0.818182\n",
      "21  0  0   1  1  0  1  0  0  1  1  1  -100.0       1 0.545455\n",
      "22  0  0   1  1  0  1  0  0  1  1  1  -100.0       1 0.727273\n",
      "25  0  0   1  1  0  1  0  0  1  1  1  -100.0       1 0.636364\n",
      "31  0  0   1  1  0  1  0  0  1  1  1  -100.0       1 0.818182\n",
      "34  0  0   1  1  0  1  0  0  1  1  1  -100.0       1 0.454545\n",
      "39  0  0   1  1  0  1  0  0  1  1  1  -100.0       1 0.636364\n",
      "40  0  0   1  1  0  1  0  0  1  1  1  -100.0       1 0.636364\n",
      "42  0  0   1  1  0  1  0  0  1  1  1  -100.0       1 0.727273\n",
      "44  0  0   1  1  0  1  0  0  1  1  1  -100.0       1 0.545455\n",
      "45  0  0   1  1  0  1  0  0  1  1  1  -100.0       1 0.545455\n",
      "51  0  0   1  1  0  1  0  0  1  1  1  -100.0       1 0.727273\n",
      "52  0  0   1  1  0  1  0  0  1  1  1  -100.0       1 0.636364\n",
      "57  0  0   1  1  0  1  0  0  1  1  1  -100.0       1 0.454545\n",
      "67  0  0   1  1  0  1  0  0  1  1  1  -100.0       1 0.636364\n",
      "0   0  0   1  1  0  1  0  0  0  1  1   -15.0       2 0.727273\n",
      "2   0  0   1  1  0  1  0  0  0  1  1   -15.0       2 0.636364\n",
      "3   0  0   1  1  0  1  0  0  0  1  1   -15.0       1 0.727273\n",
      "4   0  0   1  1  0  1  0  0  0  1  1   -15.0       1 0.636364\n",
      "6   0  0   1  1  0  1  0  0  0  1  1   -15.0       1 0.636364\n",
      "7   0  0   1  1  0  1  0  0  0  1  1   -15.0       3 0.636364\n",
      "8   0  0   1  1  0  1  0  0  0  1  1   -15.0       2 0.636364\n",
      "9   0  0   1  1  0  1  0  0  0  1  1   -15.0       2 0.727273\n",
      "11  0  0   1  1  0  1  0  0  0  1  1   -15.0       1 0.636364\n",
      "12  0  0   1  1  0  1  0  0  0  1  1   -15.0       1 0.636364\n",
      "17  0  0   1  1  0  1  0  0  0  1  1   -15.0       1 0.545455\n",
      "19  0  0   1  1  0  1  0  0  0  1  1   -15.0       1 0.454545\n",
      "27  0  0   1  1  0  1  0  0  0  1  1   -15.0       1 0.545455\n",
      "28  0  0   1  1  0  1  0  0  0  1  1   -15.0       1 0.636364\n",
      "37  0  0   1  1  0  1  0  0  0  1  1   -15.0       1 0.636364\n",
      "48  0  0   1  1  0  1  0  0  0  1  1   -15.0       1 0.545455\n",
      "53  0  0   1  1  0  1  0  0  0  1  1   -15.0       1 0.636364\n",
      "54  0  0   1  1  0  1  0  0  0  1  1   -15.0       1 0.636364\n",
      "56  0  0   1  1  0  1  0  0  0  1  1   -15.0       1 0.727273\n",
      "60  0  0   1  1  0  1  0  0  0  1  1   -15.0       1 0.727273\n",
      "63  0  0   1  1  0  1  0  0  0  1  1   -15.0       1 0.727273\n",
      "65  0  0   1  1  0  1  0  0  0  1  1   -15.0       1 0.636364\n",
      "72  0  0   1  1  0  1  0  0  0  1  1   -15.0       1 0.454545\n",
      "87  0  0   1  1  0  1  0  0  0  1  1   -15.0       1 0.454545\n",
      "46  0  0   1  1  0  1  0  0  1  0  1   240.0       1 0.818182\n",
      "16  0  0   1  1  0  1  0  0  0  0  1   665.0       1 0.636364\n",
      "35  0  0   1  1  0  1  0  0  0  0  1   665.0       1 0.636364\n",
      "82  0  0   1  1  1  0  0  0  1  1  1   685.0       1 0.909091\n",
      "13  0  0   1  1  0  1  0  0  1  1  0  1260.0       1 0.727273\n",
      "26  0  0   1  1  0  1  0  0  1  1  0  1260.0       1 0.636364\n",
      "29  0  0   1  1  0  1  0  0  1  1  0  1260.0       1 0.545455\n",
      "36  0  0   1  1  0  1  0  0  1  1  0  1260.0       1 0.454545\n",
      "43  0  0   1  1  0  1  0  0  1  1  0  1260.0       1 0.363636\n",
      "64  0  0   1  1  0  1  0  0  1  1  0  1260.0       1 0.545455\n",
      "68  0  0   1  1  0  1  0  0  1  1  0  1260.0       1 0.636364\n",
      "78  0  0   1  1  0  1  0  0  1  1  0  1260.0       1 0.636364\n",
      "33  0  0   1  1  0  1  0  0  0  1  0  2025.0       1 0.727273\n",
      "59  0  0   1  1  0  1  0  0  0  1  0  2025.0       1 0.545455\n",
      "81  0  0   1  1  0  1  0  0  0  1  0  2025.0       1 0.545455\n",
      "73  0  0   1  1  0  0  0  1  1  1  1  2040.0       1 0.909091\n",
      "80  0  0   1  1  1  0  0  1  1  1  1 12105.0       1 0.909091\n",
      "85  1  0   1  1  0  1  0  0  1  1  1 12105.0       1 0.636364\n",
      "88  0  0   1  1  1  0  0  1  1  1  1 12105.0       1 0.818182\n",
      "86  0  0   1  0  1  0  0  0  0  1  1 12190.0       1 0.909091\n",
      "83  0  0   1  0  0  0  0  1  1  0  1 14310.0       1 0.818182\n",
      "30  0  0   1  1  1  1  0  0  1  1  1 24415.0       1 0.636364\n",
      "49  0  0   1  1  1  1  0  0  1  1  1 24415.0       1 0.636364\n",
      "69  0  0   1  1  1  1  0  0  1  1  1 24415.0       1 0.363636\n",
      "23  0  0   1  1  1  1  0  0  0  1  1 27390.0       1 0.727273\n",
      "24  0  0   1  1  1  1  0  0  0  1  1 27390.0       1 0.727273\n",
      "32  0  0   1  1  1  1  0  0  0  1  1 27390.0       2 0.545455\n",
      "38  0  0   1  1  1  1  0  0  0  1  1 27390.0       1 0.454545\n",
      "47  0  0   1  1  1  1  0  0  0  1  1 27390.0       1 0.636364\n",
      "58  0  0   1  1  1  1  0  0  0  1  1 27390.0       1 0.727273\n",
      "61  0  0   1  1  1  1  0  0  0  1  1 27390.0       1 0.636364\n",
      "74  0  0   1  1  1  1  0  0  0  1  1 27390.0       1 0.818182\n",
      "77  0  0   1  1  1  1  0  0  0  1  1 27390.0       1 0.545455\n",
      "50  0  0   0  0  0  0  1  1  1  1  1 27405.0       2 0.636364\n",
      "84  0  0   1  1  0  0  0  0  1  0  1 27510.0       1 0.909091\n",
      "70  0  0   1  1  1  1  0  0  1  1  0 37335.0       1 0.727273\n",
      "89  0  0   1  1  1  1  0  0  0  1  0 40990.0       1 0.636364\n",
      "41  0  0   0  1  0  1  0  0  1  1  1 44865.0       1 0.727273\n",
      "55  0  0   0  1  0  1  0  0  1  1  1 44865.0       1 0.636364\n",
      "66  0  0   0  1  0  1  0  0  1  1  1 44865.0       1 0.636364\n",
      "71  0  0   0  1  0  1  0  0  1  1  1 44865.0       1 0.727273\n",
      "76  0  0   0  1  0  1  0  0  0  1  1 48860.0       1 0.636364\n",
      "62  0  0   0  1  0  0  1  1  1  1  1 66475.0       1 0.727273\n",
      "90  0  1   1  0  1  0  0  1  1  1  1 71295.0       1 0.727273\n",
      "75  0  0   0  1  0  0  1  1  1  0  1 76335.0       1 0.545455\n",
      "79  0  0   0  1  0  0  1  1  1  0  1 76335.0       2 0.727273\n",
      "['BINARY', 91 rows, 100 samples, 11 variables]\n"
     ]
    }
   ],
   "source": [
    "chainstrength = 15\n",
    "numruns = 100\n",
    "\n",
    "#clique = nx.complete_graph(7).edges()\n",
    "#target_graph = nx.random_regular_graph(d=4, n=30).edges()\n",
    "#embedding = find_embedding(clique, target_graph)\n",
    "#print(embedding)\n",
    "\n",
    "sampler = EmbeddingComposite(DWaveSampler())\n",
    "\n",
    "response = sampler.sample_qubo(QDwave, chain_strength=chainstrength, num_reads=numruns)\n",
    "print(response)"
   ]
  },
  {
   "cell_type": "code",
   "execution_count": null,
   "metadata": {},
   "outputs": [],
   "source": [
    "# Question Why do we get so many chainbreaks"
   ]
  },
  {
   "cell_type": "code",
   "execution_count": 164,
   "metadata": {},
   "outputs": [],
   "source": [
    "from dwave.system import LeapHybridSampler\n",
    "import dimod"
   ]
  },
  {
   "cell_type": "code",
   "execution_count": null,
   "metadata": {},
   "outputs": [],
   "source": [
    "# xxxxxxxxxxxxxxxxxxxxxxxxxxxxxxxxxxxxxx Next line executes on DWave xxxxxxxxxxxxxxxxxxxxxxxxxxxxxxxxxxxxxxxxxxxxxxxxxx"
   ]
  },
  {
   "cell_type": "code",
   "execution_count": null,
   "metadata": {},
   "outputs": [],
   "source": [
    "bqm = dimod.BinaryQuadraticModel(QDwave, dimod.Vartype.BINARY)\n",
    "sampler = LeapHybridSampler()\n",
    "sampleset = sampler.sample(bqm)\n",
    "\n",
    "\n",
    " "
   ]
  },
  {
   "cell_type": "code",
   "execution_count": 199,
   "metadata": {},
   "outputs": [
    {
     "name": "stdout",
     "output_type": "stream",
     "text": [
      "[[0. 0. 1. 0. 0. 1. 1. 0. 1. 1. 1.]]\n"
     ]
    }
   ],
   "source": [
    "print(sampleset.record.sample)"
   ]
  },
  {
   "cell_type": "code",
   "execution_count": 220,
   "metadata": {},
   "outputs": [
    {
     "name": "stdout",
     "output_type": "stream",
     "text": [
      "Found solution ['a4', 'a5'] weights [20, 10] value 150.0.\n"
     ]
    }
   ],
   "source": [
    "for sample, energy in zip(sampleset.record.sample, sampleset.record.energy):\n",
    "\n",
    "    \n",
    "    solution = []\n",
    "    items=[]\n",
    "    for this_bit_index, this_bit in enumerate(sample):\n",
    "        \n",
    "        this_var = sampleset.variables[this_bit_index]\n",
    "        \n",
    "        if this_bit and this_var.startswith('a') and int(this_var[1:])<=6:\n",
    "            items.append(this_var)\n",
    "            solution.append(df['weight'][int(this_var[1:])])\n",
    "    print(\"Found solution {} weights {} value {}.\".format(items, solution, -1*energy))\n",
    "\n",
    " "
   ]
  },
  {
   "cell_type": "code",
   "execution_count": 151,
   "metadata": {},
   "outputs": [],
   "source": [
    "# Copyright 2020 D-Wave Systems Inc.\n",
    "#\n",
    "# Licensed under the Apache License, Version 2.0 (the \"License\");\n",
    "# you may not use this file except in compliance with the License.\n",
    "# You may obtain a copy of the License at\n",
    "#\n",
    "#     http://www.apache.org/licenses/LICENSE-2.0\n",
    "#\n",
    "# Unless required by applicable law or agreed to in writing, software\n",
    "# distributed under the License is distributed on an \"AS IS\" BASIS,\n",
    "# WITHOUT WARRANTIES OR CONDITIONS OF ANY KIND, either express or implied.\n",
    "# See the License for the specific language governing permissions and\n",
    "# limitations under the License.\n",
    "\n",
    "import pandas as pd\n",
    "import sys\n",
    "from dwave.system import LeapHybridSampler\n",
    "from math import log, ceil\n",
    "import dimod\n",
    "\n",
    "# From Andrew Lucas, NP-hard combinatorial problems as Ising spin glasses\n",
    "# Workshop on Classical and Quantum Optimization; ETH Zuerich - August 20, 2014\n",
    "# based on Lucas, Frontiers in Physics _2, 5 (2014)\n",
    "\n",
    "\n",
    "def knapsack_bqm(costs, weights, weight_capacity):\n",
    "\n",
    "    costs = costs\n",
    "\n",
    "    # Initialize BQM - use large-capacity BQM so that the problem can be\n",
    "    # scaled by the user.\n",
    "    bqm = dimod.AdjVectorBQM(dimod.Vartype.BINARY)\n",
    "\n",
    "    # Lagrangian multiplier\n",
    "    # First guess as suggested in Lucas's paper\n",
    "    lagrange = max(costs)\n",
    "\n",
    "    # Number of objects\n",
    "    x_size = len(costs)\n",
    "\n",
    "    # Lucas's algorithm introduces additional slack variables to handle\n",
    "    # the inequality. max_y_index indicates the maximum index in the y\n",
    "    # sum; hence the number of slack variables.\n",
    "    max_y_index = ceil(log(weight_capacity))\n",
    "\n",
    "    # Slack variable list for Lucas's algorithm. The last variable has\n",
    "    # a special value because it terminates the sequence.\n",
    "    y = [2**n for n in range(max_y_index - 1)]\n",
    "    y.append(weight_capacity + 1 - 2**(max_y_index - 1))\n",
    "\n",
    "    # Hamiltonian xi-xi terms\n",
    "    for k in range(x_size):\n",
    "        bqm.set_linear('x' + str(k), lagrange * (weights[k]**2) - costs[k])\n",
    "\n",
    "    # Hamiltonian xi-xj terms\n",
    "    for i in range(x_size):\n",
    "        for j in range(i + 1, x_size):\n",
    "            key = ('x' + str(i), 'x' + str(j))\n",
    "            bqm.quadratic[key] = 2 * lagrange * weights[i] * weights[j]\n",
    "\n",
    "    # Hamiltonian y-y terms\n",
    "    for k in range(max_y_index):\n",
    "        bqm.set_linear('y' + str(k), lagrange * (y[k]**2))\n",
    "\n",
    "    # Hamiltonian yi-yj terms\n",
    "    for i in range(max_y_index):\n",
    "        for j in range(i + 1, max_y_index):\n",
    "            key = ('y' + str(i), 'y' + str(j))\n",
    "            bqm.quadratic[key] = 2 * lagrange * y[i] * y[j]\n",
    "\n",
    "    # Hamiltonian x-y terms\n",
    "    for i in range(x_size):\n",
    "        for j in range(max_y_index):\n",
    "            key = ('x' + str(i), 'y' + str(j))\n",
    "            bqm.quadratic[key] = -2 * lagrange * weights[i] * y[j]\n",
    "\n",
    "    return bqm"
   ]
  },
  {
   "cell_type": "code",
   "execution_count": null,
   "metadata": {},
   "outputs": [],
   "source": [
    "# xxxxxxxxxxxxxxxxxxxxxxxxxxxxxxxxxxxxxx Next line executes on DWave xxxxxxxxxxxxxxxxxxxxxxxxxxxxxxxxxxxxxxxxxxxxxxxxxx"
   ]
  },
  {
   "cell_type": "code",
   "execution_count": 152,
   "metadata": {},
   "outputs": [
    {
     "name": "stdout",
     "output_type": "stream",
     "text": [
      "Found solution [20, 10] at energy -150.0.\n"
     ]
    }
   ],
   "source": [
    "data_file_name = \"small_data.txt\"\n",
    "weight_capacity = 30\n",
    "\n",
    "# parse input data\n",
    "df = pd.read_csv(data_file_name, header=None)\n",
    "df.columns = ['cost', 'weight']\n",
    "\n",
    "bqm = knapsack_bqm(df['cost'], df['weight'], weight_capacity)\n",
    "\n",
    "sampler = LeapHybridSampler()\n",
    "sampleset = sampler.sample(bqm)\n",
    "for sample, energy in zip(sampleset.record.sample, sampleset.record.energy):\n",
    "\n",
    "    # Build solution from returned bitstring\n",
    "    solution = []\n",
    "    for this_bit_index, this_bit in enumerate(sample):\n",
    "        # The x's indicate whether each object has been selected\n",
    "        this_var = sampleset.variables[this_bit_index]\n",
    "        if this_bit and this_var.startswith('x'):\n",
    "            # Indexing of the weights is different than the bitstring;\n",
    "            # cannot guarantee any ordering of the bitstring, but the\n",
    "            # weights are numerically sorted\n",
    "            solution.append(df['weight'][int(this_var[1:])])\n",
    "    print(\"Found solution {} at energy {}.\".format(solution, energy))"
   ]
  },
  {
   "cell_type": "code",
   "execution_count": null,
   "metadata": {},
   "outputs": [],
   "source": [
    "# Solution at item 4,5\n",
    "Found solution [20, 10] at energy -150.0."
   ]
  },
  {
   "cell_type": "code",
   "execution_count": null,
   "metadata": {},
   "outputs": [],
   "source": []
  }
 ],
 "metadata": {
  "kernelspec": {
   "display_name": "Python 3",
   "language": "python",
   "name": "python3"
  },
  "language_info": {
   "codemirror_mode": {
    "name": "ipython",
    "version": 3
   },
   "file_extension": ".py",
   "mimetype": "text/x-python",
   "name": "python",
   "nbconvert_exporter": "python",
   "pygments_lexer": "ipython3",
   "version": "3.7.3"
  }
 },
 "nbformat": 4,
 "nbformat_minor": 2
}
