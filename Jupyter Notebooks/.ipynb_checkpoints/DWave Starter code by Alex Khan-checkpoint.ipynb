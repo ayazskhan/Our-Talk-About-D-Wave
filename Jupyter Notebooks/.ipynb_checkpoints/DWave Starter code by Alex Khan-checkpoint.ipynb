{
 "cells": [
  {
   "cell_type": "code",
   "execution_count": 29,
   "metadata": {},
   "outputs": [],
   "source": [
    "# Copyright 2020 Alex Khan\n",
    "# Keep\n",
    "# Licensed under the Apache License, Version 2.0 (the \"License\");\n",
    "# you may not use this file except in compliance with the License.\n",
    "# You may obtain a copy of the License at\n",
    "#\n",
    "#     http://www.apache.org/licenses/LICENSE-2.0\n",
    "#\n",
    "# Unless required by applicable law or agreed to in writing, software\n",
    "# distributed under the License is distributed on an \"AS IS\" BASIS,\n",
    "# WITHOUT WARRANTIES OR CONDITIONS OF ANY KIND, either express or implied.\n",
    "# See the License for the specific language governing permissions and\n",
    "# limitations under the License.\n",
    "\n",
    "\"\"\"\n",
    "Things to do:\n",
    " - Please name this file <demo_name>.py\n",
    " - Fill in [yyyy] and [name of copyright owner] in the copyright (top line)\n",
    " - Add demo code below\n",
    " - Format code so that it conforms with PEP 8\n",
    "\"\"\"\n",
    "\n",
    "import numpy as np\n",
    "from numpy.random import rand\n",
    "import pandas as pd\n",
    "from dwave.system.samplers import DWaveSampler\n",
    "from dwave.system.composites import EmbeddingComposite\n",
    "from minorminer import find_embedding\n",
    "import networkx as nx\n",
    "import dwave.inspector\n",
    "import dimod\n",
    "import neal"
   ]
  },
  {
   "cell_type": "code",
   "execution_count": 3,
   "metadata": {},
   "outputs": [],
   "source": [
    "# Random matrix is generated\n",
    "dim=20\n",
    "Q =  2*rand(dim,dim) - 1\n",
    "Q = (Q+Q.T)/2\n",
    "for k in range(dim):\n",
    "    Q[k,k] = np.abs(Q[k,k])\n",
    "\n",
    "#print(Q)"
   ]
  },
  {
   "cell_type": "code",
   "execution_count": 30,
   "metadata": {},
   "outputs": [
    {
     "name": "stdout",
     "output_type": "stream",
     "text": [
      "[[-0.4966  0.148   0.1325  0.1339  0.1392  0.166   0.1669  0.1327  0.1637\n",
      "   0.1482  0.1811  0.1704 -0.3787  0.7918  0.4215  0.0867 -0.1466  0.7021\n",
      "  -0.6529 -0.296 ]\n",
      " [ 0.148  -0.5503  0.1506  0.0961  0.1294  0.1531  0.1801  0.1355  0.1694\n",
      "   0.1583  0.1827  0.1787 -0.0395  0.1183 -0.3445  0.4121 -0.0945  0.6262\n",
      "  -0.6001 -0.4473]\n",
      " [ 0.1325  0.1506 -0.6496  0.2242  0.1788  0.304   0.2035  0.1623  0.2122\n",
      "   0.1236  0.2077  0.2156  0.2979 -0.2471 -0.3704 -0.3499 -0.0175  0.2623\n",
      "  -0.3363  0.3016]\n",
      " [ 0.1339  0.0961  0.2242 -0.4766  0.1309  0.2355  0.1379  0.1403  0.9728\n",
      "   0.1145  0.169   0.1607  0.3854 -0.0058  0.572   0.543  -0.0245  0.3211\n",
      "  -0.2155 -0.4031]\n",
      " [ 0.1392  0.1294  0.1788  0.1309 -0.4722  0.1723  0.1744  0.1291  0.1671\n",
      "  -0.1358  0.1392  0.1396  0.2061 -0.6385 -0.3919  0.1523 -0.0636  0.4967\n",
      "  -0.6776 -0.3842]\n",
      " [ 0.166   0.1531  0.304   0.2355  0.1723 -0.7757  0.2465  0.1457  0.2409\n",
      "   0.1467  0.2572  0.2443  0.5031  0.1486  0.5285  0.1254  0.6012  0.3854\n",
      "   0.3942 -0.077 ]\n",
      " [ 0.1669  0.1801  0.2035  0.1379  0.1744  0.2465 -0.6697  0.1661  0.2061\n",
      "   0.1954  0.2419  0.2405 -0.7707  0.6658  0.4397  0.3358  0.7477  0.4884\n",
      "   0.1579 -0.4485]\n",
      " [ 0.1327  0.1355  0.1623  0.1403  0.1291  0.1457  0.1661 -0.5061  0.1665\n",
      "   0.1258  0.1642  0.1652  0.1502 -0.386  -0.0176  0.1468  0.0015 -0.2473\n",
      "   0.1698  0.1565]\n",
      " [ 0.1637  0.1694  0.2122  0.9728  0.1671  0.2409  0.2061  0.1665 -0.4966\n",
      "   0.148   0.1325  0.1339  0.1392  0.166   0.1669  0.1327  0.1637  0.1482\n",
      "   0.1811  0.1704]\n",
      " [ 0.1482  0.1583  0.1236  0.1145 -0.1358  0.1467  0.1954  0.1258  0.148\n",
      "  -0.5503  0.1506  0.0961  0.1294  0.1531  0.1801  0.1355  0.1694  0.1583\n",
      "   0.1827  0.1787]\n",
      " [ 0.1811  0.1827  0.2077  0.169   0.1392  0.2572  0.2419  0.1642  0.1325\n",
      "   0.1506 -0.6496  0.2242  0.1788  0.304   0.2035  0.1623  0.2122  0.1236\n",
      "   0.2077  0.2156]\n",
      " [ 0.1704  0.1787  0.2156  0.1607  0.1396  0.2443  0.2405  0.1652  0.1339\n",
      "   0.0961  0.2242 -0.4766  0.1309  0.2355  0.1379  0.1403  0.9728  0.1145\n",
      "   0.169   0.1607]\n",
      " [-0.3787 -0.0395  0.2979  0.3854  0.2061  0.5031 -0.7707  0.1502  0.1392\n",
      "   0.1294  0.1788  0.1309 -0.4722  0.1723  0.1744  0.1291  0.1671 -0.1358\n",
      "   0.1392  0.1396]\n",
      " [ 0.7918  0.1183 -0.2471 -0.0058 -0.6385  0.1486  0.6658 -0.386   0.166\n",
      "   0.1531  0.304   0.2355  0.1723 -0.7757  0.2465  0.1457  0.2409  0.1467\n",
      "   0.2572  0.2443]\n",
      " [ 0.4215 -0.3445 -0.3704  0.572  -0.3919  0.5285  0.4397 -0.0176  0.1669\n",
      "   0.1801  0.2035  0.1379  0.1744  0.2465 -0.6697  0.1661  0.2061  0.1954\n",
      "   0.2419  0.2405]\n",
      " [ 0.0867  0.4121 -0.3499  0.543   0.1523  0.1254  0.3358  0.1468  0.1327\n",
      "   0.1355  0.1623  0.1403  0.1291  0.1457  0.1661 -0.5061  0.1665  0.1258\n",
      "   0.1642  0.1652]\n",
      " [-0.1466 -0.0945 -0.0175 -0.0245 -0.0636  0.6012  0.7477  0.0015  0.1637\n",
      "   0.1694  0.2122  0.9728  0.1671  0.2409  0.2061  0.1665 -0.734   0.1722\n",
      "   0.2066  0.2129]\n",
      " [ 0.7021  0.6262  0.2623  0.3211  0.4967  0.3854  0.4884 -0.2473  0.1482\n",
      "   0.1583  0.1236  0.1145 -0.1358  0.1467  0.1954  0.1258  0.1722 -0.5408\n",
      "   0.1822  0.1784]\n",
      " [-0.6529 -0.6001 -0.3363 -0.2155 -0.6776  0.3942  0.1579  0.1698  0.1811\n",
      "   0.1827  0.2077  0.169   0.1392  0.2572  0.2419  0.1642  0.2066  0.1822\n",
      "  -0.8     0.2424]\n",
      " [-0.296  -0.4473  0.3016 -0.4031 -0.3842 -0.077  -0.4485  0.1565  0.1704\n",
      "   0.1787  0.2156  0.1607  0.1396  0.2443  0.2405  0.1652  0.2129  0.1784\n",
      "   0.2424 -0.7553]]\n"
     ]
    }
   ],
   "source": [
    "# Copy in Matrix from File\n",
    "Q = pd.read_csv(\"Q20.csv\").values\n",
    "dim=len(Q[0])\n",
    "\n",
    "print(Q)"
   ]
  },
  {
   "cell_type": "code",
   "execution_count": 31,
   "metadata": {},
   "outputs": [],
   "source": [
    "# convert matrix into a QUBO with linear=biases and quadratic=couplings terms\n",
    "# This uses the D-Wave QPU to \n",
    "\n",
    "linear={('a'+str(k), 'a'+str(k)):Q[k][k] for k in range(dim)}\n",
    "\n",
    "quadratic={('a'+str(i+1), 'a'+str(j)):Q[i+1][j] for i in range(dim-1) for j in range(dim-1) if j<i+1}\n",
    "\n",
    "QDwave = dict(linear)\n",
    "QDwave.update(quadratic)\n",
    "\n",
    "#print(QDwave)\n",
    "\n",
    "chainstrength = 1\n",
    "numruns = 1000\n",
    "\n",
    "\n",
    "\n",
    "sampler = EmbeddingComposite(DWaveSampler())\n",
    "\n",
    "\n",
    "response = sampler.sample_qubo(QDwave, chain_strength=chainstrength, num_reads=numruns)\n",
    "\n",
    "#print(response)\n",
    "#dwave.inspector.show(QDwave,response)"
   ]
  },
  {
   "cell_type": "code",
   "execution_count": null,
   "metadata": {},
   "outputs": [],
   "source": [
    "# print results in binary\n",
    "\n",
    "title_str=[]\n",
    "for a in range(dim):\n",
    "        title_str.append('a'+str(a))\n",
    "print(title_str, \"Energy\")\n",
    "for sample, energy, n_occurences, chain_break_freq in response.data():\n",
    "    sample_str=[]\n",
    "    for a in range(dim):\n",
    "        sample_str.append(str(sample['a'+str(a)]))\n",
    "    print(sample_str, energy)"
   ]
  },
  {
   "cell_type": "code",
   "execution_count": 32,
   "metadata": {},
   "outputs": [
    {
     "name": "stdout",
     "output_type": "stream",
     "text": [
      "[0, 1, 3, 4, 6, 12, 18, 19] -7.2996 28\n",
      "best D-Wave:[0, 1, 3, 4, 6, 12, 18, 19] energy:-7.2996 occurences:28\n"
     ]
    }
   ],
   "source": [
    "# print qubits with value 1\n",
    "best=0\n",
    "for sample, energy, n_occurences, chain_break_freq in response.data():\n",
    "    sample_list=[]\n",
    "    for a in range(dim):\n",
    "        #sample_str.append(str(sample['a'+str(a)]))\n",
    "        if sample['a'+str(a)]==1:\n",
    "            sample_list.append(a)\n",
    "    if best==0:\n",
    "        best_DWave_val='best D-Wave:'+str(sample_list)+' energy:'+str(energy)+' occurences:'+str(n_occurences)\n",
    "        best=1\n",
    "    print(sample_list, energy, n_occurences)\n",
    "    break #comment out break to see all values\n",
    "print(best_DWave_val)   \n",
    "\n",
    "   "
   ]
  },
  {
   "cell_type": "code",
   "execution_count": 33,
   "metadata": {},
   "outputs": [],
   "source": [
    "def ProbabilisticSamplerQ(Q,plot_limit):\n",
    "    from itertools import combinations\n",
    "    import numpy as np\n",
    "    import pandas as pd\n",
    "    import random\n",
    "    import math\n",
    "    import matplotlib.pyplot as plt\n",
    "    \n",
    "    def nCr(n,r):\n",
    "        f = math.factorial\n",
    "        return int(f(n) / f(r) / f(n-r))\n",
    "    \n",
    "    def random_combination(iterable, r):\n",
    "        \"Random selection from itertools.combinations(iterable, r)\"\n",
    "        pool = tuple(iterable)\n",
    "        n = len(pool)\n",
    "        indices = sorted(random.sample(range(n), r))\n",
    "        return list(tuple(pool[i] for i in indices))\n",
    "    \n",
    "    def sum(i_list, Q):\n",
    "        sum_l=0\n",
    "        sum_q=0\n",
    "        for i in (i_list):\n",
    "            sum_l+=Q[i][i]\n",
    "        for i in (i_list):\n",
    "            for j in (i_list):\n",
    "                if i<j:\n",
    "                    sum_q+=Q[i][j]\n",
    "            \n",
    "        return(sum_l+sum_q)\n",
    "    \n",
    "    \n",
    "    N=len(Q[0])\n",
    "    t= (2**N)-1\n",
    "    \n",
    "    e_min=9999999\n",
    "    count=1\n",
    "    min_list=[]\n",
    "    plot_data=[]\n",
    "    for n in range(1,N):  # for groups of items from 1 to N\n",
    "        comb=nCr(N,n)\n",
    "        #print('--m ', m, comb)\n",
    "        if comb>plot_limit:\n",
    "            combf=plot_limit\n",
    "        else:\n",
    "            combf=comb\n",
    "                \n",
    "        for i in range (combf):\n",
    "            i_list=random_combination(range(N), n)\n",
    "            plot_data.append(sum(list(i_list),Q))\n",
    "            \n",
    "            if sum(list(i_list),Q)<e_min:  \n",
    "\n",
    "                    e_min=sum(list(i_list),Q)  \n",
    "                    \n",
    "                    min_list=list(i_list)\n",
    "                    print(list(i_list), sum(list(i_list),Q))\n",
    "            count+=1\n",
    "    plt.plot(plot_data)\n",
    "    plt.ylabel('Energy')\n",
    "    plt.show()\n",
    "    \n",
    "    print('Best found:', min_list)\n",
    "    print('Energy:', e_min)\n",
    "    print('From:', count, ' samples')\n",
    "    print('Possible solutions:', t)\n",
    "    return"
   ]
  },
  {
   "cell_type": "code",
   "execution_count": 35,
   "metadata": {},
   "outputs": [
    {
     "name": "stdout",
     "output_type": "stream",
     "text": [
      "[6] -0.6697\n",
      "[19] -0.7553\n",
      "[5] -0.7757\n",
      "[13, 15] -1.1361\n",
      "[14, 16] -1.1976\n",
      "[7, 13] -1.6678000000000002\n",
      "[2, 18] -1.7859\n",
      "[0, 18] -1.9495\n",
      "[4, 18] -1.9498\n",
      "[1, 7, 13] -1.9643000000000002\n",
      "[1, 16, 19] -2.3685\n",
      "[0, 1, 18] -2.9519\n",
      "[0, 6, 12, 18] -3.7768\n",
      "[0, 1, 4, 18] -3.8331\n",
      "[2, 4, 13, 18] -4.161\n",
      "[0, 4, 6, 18, 19] -4.7722\n",
      "[0, 1, 4, 12, 14, 16, 18] -5.405399999999999\n",
      "[1, 3, 4, 12, 13, 18, 19] -5.4527\n",
      "[0, 1, 4, 7, 14, 18, 19] -5.775799999999999\n",
      "[0, 3, 4, 6, 12, 16, 18, 19] -5.8504\n",
      "[0, 1, 4, 7, 14, 16, 18, 19] -6.187399999999999\n"
     ]
    },
    {
     "data": {
      "image/png": "[encoded data removed]",
      "text/plain": [
       "<Figure size 432x288 with 1 Axes>"
      ]
     },
     "metadata": {
      "needs_background": "light"
     },
     "output_type": "display_data"
    },
    {
     "name": "stdout",
     "output_type": "stream",
     "text": [
      "Best found: [0, 1, 4, 7, 14, 16, 18, 19]\n",
      "Energy: -6.187399999999999\n",
      "From: 15421  samples\n",
      "Possible solutions: 1048575\n"
     ]
    }
   ],
   "source": [
    "ProbabilisticSamplerQ(Q,1000)"
   ]
  },
  {
   "cell_type": "code",
   "execution_count": 16,
   "metadata": {},
   "outputs": [
    {
     "name": "stdout",
     "output_type": "stream",
     "text": [
      "best D-Wave:[0, 1, 3, 4, 6, 12, 18, 19] energy:-7.2996 occurences:2\n"
     ]
    }
   ],
   "source": [
    "print(best_DWave_val) "
   ]
  },
  {
   "cell_type": "code",
   "execution_count": null,
   "metadata": {},
   "outputs": [],
   "source": [
    "# Next few lines can be used to check on D-Wave Simulated Annealer results"
   ]
  },
  {
   "cell_type": "code",
   "execution_count": 6,
   "metadata": {},
   "outputs": [
    {
     "name": "stdout",
     "output_type": "stream",
     "text": [
      "Sample(sample={0: 1, 1: 1, 2: 0, 3: 0, 4: 1, 5: 0, 6: 1, 7: 0, 8: 0, 9: 0, 10: 0, 11: 0, 12: 1, 13: 0, 14: 0, 15: 0, 16: 0, 17: 0, 18: 1, 19: 1}, energy=-9.96089999999997, num_occurrences=1)\n"
     ]
    }
   ],
   "source": [
    "# Use Simulated Annealer to show results\n",
    "Nsampler = neal.SimulatedAnnealingSampler()\n",
    "QDWaveSA = dimod.BinaryQuadraticModel(Q, dimod.BINARY)\n",
    "SAresponse = Nsampler.sample(QDWaveSA)\n",
    "for Ssample in SAresponse.data():\n",
    "    print( Ssample)"
   ]
  },
  {
   "cell_type": "code",
   "execution_count": 11,
   "metadata": {},
   "outputs": [
    {
     "name": "stdout",
     "output_type": "stream",
     "text": [
      "best SA:[0, 1, 4, 6, 12, 18, 19] energy:-9.96089999999997 occurences:1\n"
     ]
    }
   ],
   "source": [
    "best=0\n",
    "for sample, energy, n_occurences in SAresponse.data():\n",
    "    sample_list=[]\n",
    "    for a in range(dim):\n",
    "        #sample_str.append(str(sample['a'+str(a)]))\n",
    "        if sample[a]==1:\n",
    "            sample_list.append(a)\n",
    "    if best==0:\n",
    "        best_SA_val='best SA:'+str(sample_list)+' energy:'+str(energy)+' occurences:'+str(n_occurences)\n",
    "        best=1\n",
    "    \n",
    "print(best_SA_val)   "
   ]
  },
  {
   "cell_type": "code",
   "execution_count": 22,
   "metadata": {},
   "outputs": [],
   "source": [
    "def value(i_list, file_name):\n",
    "    import pandas as pd\n",
    "    Q = pd.read_csv(file_name).values\n",
    "    N=len(Q[0])\n",
    "    t= (2**N)-1\n",
    "    sum_l=0\n",
    "    sum_q=0\n",
    "    for i in (i_list):\n",
    "        sum_l+=Q[i][i]\n",
    "    for i in (i_list):\n",
    "        for j in (i_list):\n",
    "            if i<j:\n",
    "                sum_q+=Q[i][j]\n",
    "\n",
    "    return(sum_l+sum_q)"
   ]
  },
  {
   "cell_type": "code",
   "execution_count": 24,
   "metadata": {},
   "outputs": [
    {
     "data": {
      "text/plain": [
       "-7.2996"
      ]
     },
     "execution_count": 24,
     "metadata": {},
     "output_type": "execute_result"
    }
   ],
   "source": [
    "value([0, 1, 3, 4, 6, 12, 18, 19],\"Q20.csv\")"
   ]
  },
  {
   "cell_type": "code",
   "execution_count": null,
   "metadata": {},
   "outputs": [],
   "source": []
  }
 ],
 "metadata": {
  "kernelspec": {
   "display_name": "Python 3",
   "language": "python",
   "name": "python3"
  },
  "language_info": {
   "codemirror_mode": {
    "name": "ipython",
    "version": 3
   },
   "file_extension": ".py",
   "mimetype": "text/x-python",
   "name": "python",
   "nbconvert_exporter": "python",
   "pygments_lexer": "ipython3",
   "version": "3.7.3"
  }
 },
 "nbformat": 4,
 "nbformat_minor": 2
}
