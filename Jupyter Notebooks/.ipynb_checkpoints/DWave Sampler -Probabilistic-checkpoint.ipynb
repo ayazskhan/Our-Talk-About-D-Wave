{
 "cells": [
  {
   "cell_type": "code",
   "execution_count": 1,
   "metadata": {},
   "outputs": [],
   "source": [
    "# A Probabilistic DWave sampler that uses random sampling per number of solutions\n",
    "# (c)2020 Alex Khan. All rights reserved "
   ]
  },
  {
   "cell_type": "code",
   "execution_count": 9,
   "metadata": {},
   "outputs": [],
   "source": [
    "def DWaveSamplerP(file_name,plot_limit):\n",
    "    from itertools import combinations\n",
    "    import numpy as np\n",
    "    import pandas as pd\n",
    "    import random\n",
    "    import math\n",
    "    import matplotlib.pyplot as plt\n",
    "    \n",
    "    def nCr(n,r):\n",
    "        f = math.factorial\n",
    "        return int(f(n) / f(r) / f(n-r))\n",
    "    \n",
    "    def random_combination(iterable, r):\n",
    "        \"Random selection from itertools.combinations(iterable, r)\"\n",
    "        pool = tuple(iterable)\n",
    "        n = len(pool)\n",
    "        indices = sorted(random.sample(range(n), r))\n",
    "        return list(tuple(pool[i] for i in indices))\n",
    "    \n",
    "    def sum(i_list, Q):\n",
    "        sum_l=0\n",
    "        sum_q=0\n",
    "        for i in (i_list):\n",
    "            sum_l+=Q[i][i]\n",
    "        for i in (i_list):\n",
    "            for j in (i_list):\n",
    "                if i<j:\n",
    "                    sum_q+=Q[i][j]\n",
    "            \n",
    "        return(sum_l+sum_q)\n",
    "    \n",
    "    Q = pd.read_csv(file_name).values \n",
    "    N=len(Q[0])\n",
    "    t= (2**N)-1\n",
    "    \n",
    "    e_min=9999999\n",
    "    count=0\n",
    "    min_list=[]\n",
    "    plot_data=[]\n",
    "    for n in range(1,N):  # for groups of items from 1 to N\n",
    "        comb=nCr(N,n)\n",
    "        #print('--m ', m, comb)\n",
    "        if comb>plot_limit:\n",
    "            combf=plot_limit\n",
    "        else:\n",
    "            combf=comb\n",
    "                \n",
    "        for i in range (combf):\n",
    "            i_list=random_combination(range(N), n)\n",
    "            plot_data.append(sum(list(i_list),Q))\n",
    "            \n",
    "            if sum(list(i_list),Q)<e_min:  \n",
    "\n",
    "                    e_min=sum(list(i_list),Q)  \n",
    "                    \n",
    "                    min_list=list(i_list)\n",
    "                    print(list(i_list), sum(list(i_list),Q))\n",
    "            count+=1\n",
    "    plt.plot(plot_data)\n",
    "    plt.ylabel('Energy')\n",
    "    plt.show()\n",
    "    print('File Name:', file_name)\n",
    "    print('Best found:', min_list)\n",
    "    print('Energy:', e_min)\n",
    "    print('From:', count, ' samples')\n",
    "    print('Possible solutions:', t)\n",
    "    return"
   ]
  },
  {
   "cell_type": "code",
   "execution_count": 12,
   "metadata": {
    "scrolled": true
   },
   "outputs": [
    {
     "name": "stdout",
     "output_type": "stream",
     "text": [
      "[1] 0.097385871\n",
      "[0, 4] -0.014249898999999844\n",
      "[1, 4] -0.14307891899999997\n"
     ]
    },
    {
     "data": {
      "image/png": "[encoded data removed]",
      "text/plain": [
       "<Figure size 432x288 with 1 Axes>"
      ]
     },
     "metadata": {
      "needs_background": "light"
     },
     "output_type": "display_data"
    },
    {
     "name": "stdout",
     "output_type": "stream",
     "text": [
      "File Name: Q5.csv\n",
      "Best found: [1, 4]\n",
      "Energy: -0.14307891899999997\n",
      "From: 30  samples\n",
      "Possible solutions: 31\n"
     ]
    }
   ],
   "source": [
    "\n",
    "FileName=\"Q5.csv\"\n",
    "DWaveSamplerP(FileName,100)\n"
   ]
  },
  {
   "cell_type": "code",
   "execution_count": 30,
   "metadata": {},
   "outputs": [],
   "source": [
    "#Q3.csv [0, 1] -0.601334782\n",
    "\n",
    "#Q5.csv [1, 4] -0.14307891899999997\n",
    "\n",
    "#Q20.csv [0, 1, 2, 4, 8, 9, 10, 11, 12, 14, 15, 16, 18, 19] -6.077951400999995 <---Bruteforce\n",
    "\n",
    "#Q30.csv [1, 2, 3, 4, 7, 16, 18, 21, 23, 24, 25, 28, 29] -8.705486217  <----Bruteforce (so far)\n"
   ]
  },
  {
   "cell_type": "code",
   "execution_count": 4,
   "metadata": {},
   "outputs": [],
   "source": [
    "#This section can be used to try different values\n",
    "\n",
    "def value(i_list, file_name):\n",
    "    import pandas as pd\n",
    "    Q = pd.read_csv(file_name).values\n",
    "    N=len(Q[0])\n",
    "    t= (2**N)-1\n",
    "    sum_l=0\n",
    "    sum_q=0\n",
    "    for i in (i_list):\n",
    "        sum_l+=Q[i][i]\n",
    "    for i in (i_list):\n",
    "        for j in (i_list):\n",
    "            if i<j:\n",
    "                sum_q+=Q[i][j]\n",
    "\n",
    "    return(sum_l+sum_q)\n",
    "    \n"
   ]
  },
  {
   "cell_type": "code",
   "execution_count": null,
   "metadata": {},
   "outputs": [],
   "source": [
    "#11111 00100 00100 01010 01111 10011 <-- Best answer for 30\n",
    "[0, 1, 2, 3, 4, 7, 12, 16, 18, 21, 22, 23, 24, 25, 28, 29]"
   ]
  },
  {
   "cell_type": "code",
   "execution_count": null,
   "metadata": {},
   "outputs": [],
   "source": []
  },
  {
   "cell_type": "code",
   "execution_count": 42,
   "metadata": {},
   "outputs": [
    {
     "data": {
      "text/plain": [
       "-10.121011157999993"
      ]
     },
     "execution_count": 42,
     "metadata": {},
     "output_type": "execute_result"
    }
   ],
   "source": [
    "value([0, 1, 2, 3, 4, 7, 12, 16, 18, 21, 22, 23, 24, 25, 28, 29],\"Q30.csv\")"
   ]
  },
  {
   "cell_type": "code",
   "execution_count": null,
   "metadata": {},
   "outputs": [],
   "source": [
    "#11111 10100 00110 01010 01111 10011] <- Hybrid solver"
   ]
  },
  {
   "cell_type": "code",
   "execution_count": 43,
   "metadata": {},
   "outputs": [
    {
     "data": {
      "text/plain": [
       "-10.002792734999995"
      ]
     },
     "execution_count": 43,
     "metadata": {},
     "output_type": "execute_result"
    }
   ],
   "source": [
    "value([0, 1, 2, 3, 4, 5, 7, 12, 13, 16, 18, 21, 22, 23, 24, 25, 28, 29],\"Q30.csv\")"
   ]
  },
  {
   "cell_type": "code",
   "execution_count": null,
   "metadata": {},
   "outputs": [],
   "source": [
    "# 11111 00100 00100 01010 01111 10011  <-- Anneal function"
   ]
  },
  {
   "cell_type": "code",
   "execution_count": 55,
   "metadata": {},
   "outputs": [
    {
     "data": {
      "text/plain": [
       "-10.121011157999993"
      ]
     },
     "execution_count": 55,
     "metadata": {},
     "output_type": "execute_result"
    }
   ],
   "source": [
    "value([0, 1, 2, 3, 4, 7, 12, 16, 18, 21, 22, 23, 24, 25, 28, 29],\"Q30.csv\")"
   ]
  },
  {
   "cell_type": "code",
   "execution_count": null,
   "metadata": {},
   "outputs": [],
   "source": []
  }
 ],
 "metadata": {
  "kernelspec": {
   "display_name": "Python 3",
   "language": "python",
   "name": "python3"
  },
  "language_info": {
   "codemirror_mode": {
    "name": "ipython",
    "version": 3
   },
   "file_extension": ".py",
   "mimetype": "text/x-python",
   "name": "python",
   "nbconvert_exporter": "python",
   "pygments_lexer": "ipython3",
   "version": "3.7.3"
  }
 },
 "nbformat": 4,
 "nbformat_minor": 2
}
