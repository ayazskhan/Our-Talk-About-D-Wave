{
 "cells": [
  {
   "cell_type": "code",
   "execution_count": 3,
   "metadata": {},
   "outputs": [],
   "source": [
    "# Copyright 2020 Alex Khan\n",
    "#\n",
    "# Licensed under the Apache License, Version 2.0 (the \"License\");\n",
    "# you may not use this file except in compliance with the License.\n",
    "# You may obtain a copy of the License at\n",
    "#\n",
    "#     http://www.apache.org/licenses/LICENSE-2.0\n",
    "#\n",
    "# Unless required by applicable law or agreed to in writing, software\n",
    "# distributed under the License is distributed on an \"AS IS\" BASIS,\n",
    "# WITHOUT WARRANTIES OR CONDITIONS OF ANY KIND, either express or implied.\n",
    "# See the License for the specific language governing permissions and\n",
    "# limitations under the License.\n",
    "\n",
    "\"\"\"\n",
    "Things to do:\n",
    " - Please name this file <demo_name>.py\n",
    " - Fill in [yyyy] and [name of copyright owner] in the copyright (top line)\n",
    " - Add demo code below\n",
    " - Format code so that it conforms with PEP 8\n",
    "\"\"\"\n",
    "\n",
    "import numpy as np\n",
    "from numpy.random import rand\n",
    "import pandas as pd\n",
    "from dwave.system.samplers import DWaveSampler\n",
    "from dwave.system.composites import EmbeddingComposite\n",
    "from minorminer import find_embedding\n",
    "import networkx as nx\n",
    "import dwave.inspector"
   ]
  },
  {
   "cell_type": "code",
   "execution_count": 4,
   "metadata": {},
   "outputs": [
    {
     "name": "stdout",
     "output_type": "stream",
     "text": [
      "[[ 2.30938656e-01  5.86796700e-01 -7.99043549e-01  1.54465222e-01\n",
      "   1.56149808e-01  4.28591052e-01  3.65380074e-02  1.33802965e-01\n",
      "  -9.74715441e-02  8.84981260e-02 -2.48787603e-01 -1.04031200e-01\n",
      "  -1.50109372e-03  8.03576129e-01 -4.77051761e-01  1.92737814e-01\n",
      "   1.61643851e-02  2.37621269e-01 -3.42525343e-02 -3.35992758e-01]\n",
      " [ 5.86796700e-01  5.68024161e-01  4.83751479e-01 -1.29119485e-01\n",
      "  -2.24284855e-01  3.74416620e-02  5.12721162e-01 -4.04252653e-01\n",
      "   6.15221494e-01  1.82220307e-01 -5.99716247e-01  1.24753243e-01\n",
      "  -2.14759734e-01 -2.72218862e-01 -8.65168369e-01 -4.80828986e-01\n",
      "  -2.35121773e-01  2.43225496e-01  1.82821348e-01  3.76350588e-01]\n",
      " [-7.99043549e-01  4.83751479e-01  8.04751579e-01 -3.45401412e-01\n",
      "  -3.12742686e-01  7.36730616e-01  6.21921914e-01  3.32591138e-01\n",
      "  -1.08236877e-01 -4.33586161e-01 -4.55451892e-01 -5.55161089e-02\n",
      "  -2.88970097e-01  2.15692303e-02 -1.65594890e-01  2.12426210e-01\n",
      "   4.36004020e-01 -4.23497998e-01  2.45812729e-01 -7.39046457e-01]\n",
      " [ 1.54465222e-01 -1.29119485e-01 -3.45401412e-01  4.18281851e-01\n",
      "   1.53654208e-01  1.77259576e-01 -2.97924828e-01 -7.45255017e-03\n",
      "   5.85985984e-01 -1.96420955e-01  3.38570398e-02 -6.16942002e-01\n",
      "  -2.37567805e-02 -4.94038598e-01  3.86926212e-01 -2.86356119e-01\n",
      "   3.81870093e-01 -5.61953210e-01  3.05548392e-01 -5.42941157e-01]\n",
      " [ 1.56149808e-01 -2.24284855e-01 -3.12742686e-01  1.53654208e-01\n",
      "   7.81764941e-01 -1.07532648e-02  8.80313481e-01  2.45425095e-01\n",
      "   3.81446442e-01  1.89314940e-01 -1.95972555e-04 -2.52196373e-01\n",
      "   1.29443680e-01 -2.32756409e-01  2.55945646e-02 -4.88149910e-01\n",
      "   6.92721772e-01  2.34275167e-01 -6.45097363e-01  2.29524931e-02]\n",
      " [ 4.28591052e-01  3.74416620e-02  7.36730616e-01  1.77259576e-01\n",
      "  -1.07532648e-02  9.54158899e-01 -2.28388479e-01  2.50116465e-01\n",
      "  -3.93945055e-01  2.50624425e-01  2.21284445e-01  1.87265403e-01\n",
      "  -4.30057536e-01 -5.84700495e-02 -1.22588877e-01 -5.58877488e-01\n",
      "  -6.16828311e-02 -1.34298312e-01  7.18416811e-01 -4.47689679e-01]\n",
      " [ 3.65380074e-02  5.12721162e-01  6.21921914e-01 -2.97924828e-01\n",
      "   8.80313481e-01 -2.28388479e-01  5.95640371e-02 -2.31188633e-01\n",
      "   4.10274747e-01 -7.81314984e-01  4.90371371e-01  4.38464640e-01\n",
      "  -4.49668772e-01 -6.61500318e-02  4.63497890e-01  1.48433685e-01\n",
      "  -3.47642274e-01  7.66693440e-01  9.40065618e-02  6.03179387e-01]\n",
      " [ 1.33802965e-01 -4.04252653e-01  3.32591138e-01 -7.45255017e-03\n",
      "   2.45425095e-01  2.50116465e-01 -2.31188633e-01  1.41282834e-01\n",
      "  -1.97383844e-01  4.27859498e-01 -6.64912690e-01 -9.02993433e-04\n",
      "   8.91730963e-01 -9.55344144e-01 -1.16775776e-01  5.32575511e-01\n",
      "  -1.59830075e-01  6.74523963e-01 -1.13289897e-01  4.38829019e-01]\n",
      " [-9.74715441e-02  6.15221494e-01 -1.08236877e-01  5.85985984e-01\n",
      "   3.81446442e-01 -3.93945055e-01  4.10274747e-01 -1.97383844e-01\n",
      "   7.14077765e-01 -2.08032908e-01 -6.99014803e-01 -1.17676069e-01\n",
      "   9.76324394e-01 -5.66391872e-01  3.86604488e-01 -6.20650357e-01\n",
      "  -2.43880745e-01 -5.54442240e-01 -1.22248872e-01  8.19105587e-02]\n",
      " [ 8.84981260e-02  1.82220307e-01 -4.33586161e-01 -1.96420955e-01\n",
      "   1.89314940e-01  2.50624425e-01 -7.81314984e-01  4.27859498e-01\n",
      "  -2.08032908e-01  8.05462901e-01 -2.87796885e-01  5.47794776e-01\n",
      "  -1.04902894e-01 -4.83665117e-02 -4.76047815e-01  1.82338565e-01\n",
      "  -3.33832849e-02 -2.27781102e-01 -6.60800696e-01  7.28689732e-01]\n",
      " [-2.48787603e-01 -5.99716247e-01 -4.55451892e-01  3.38570398e-02\n",
      "  -1.95972555e-04  2.21284445e-01  4.90371371e-01 -6.64912690e-01\n",
      "  -6.99014803e-01 -2.87796885e-01  2.07346067e-01  4.56326323e-01\n",
      "   6.32973019e-01 -7.98660494e-03 -1.54403622e-01  4.11538586e-01\n",
      "  -4.32991880e-01 -2.05498950e-01  3.35199686e-01  1.21006820e-01]\n",
      " [-1.04031200e-01  1.24753243e-01 -5.55161089e-02 -6.16942002e-01\n",
      "  -2.52196373e-01  1.87265403e-01  4.38464640e-01 -9.02993433e-04\n",
      "  -1.17676069e-01  5.47794776e-01  4.56326323e-01  4.69673632e-01\n",
      "   2.66301104e-01  1.94968721e-01  2.92963568e-01  8.56685513e-01\n",
      "  -4.11491009e-01  6.03035415e-01 -5.24600639e-01 -2.72167847e-01]\n",
      " [-1.50109372e-03 -2.14759734e-01 -2.88970097e-01 -2.37567805e-02\n",
      "   1.29443680e-01 -4.30057536e-01 -4.49668772e-01  8.91730963e-01\n",
      "   9.76324394e-01 -1.04902894e-01  6.32973019e-01  2.66301104e-01\n",
      "   1.26971543e-01 -3.67525080e-01  2.50667303e-01  5.66806240e-01\n",
      "  -3.80162185e-01  8.29128702e-02  6.93883243e-01  5.61535378e-01]\n",
      " [ 8.03576129e-01 -2.72218862e-01  2.15692303e-02 -4.94038598e-01\n",
      "  -2.32756409e-01 -5.84700495e-02 -6.61500318e-02 -9.55344144e-01\n",
      "  -5.66391872e-01 -4.83665117e-02 -7.98660494e-03  1.94968721e-01\n",
      "  -3.67525080e-01  9.91892842e-01 -1.23381098e-01  1.31142868e-01\n",
      "   5.06881472e-01  6.56191969e-01  4.04532241e-01  1.04583159e-01]\n",
      " [-4.77051761e-01 -8.65168369e-01 -1.65594890e-01  3.86926212e-01\n",
      "   2.55945646e-02 -1.22588877e-01  4.63497890e-01 -1.16775776e-01\n",
      "   3.86604488e-01 -4.76047815e-01 -1.54403622e-01  2.92963568e-01\n",
      "   2.50667303e-01 -1.23381098e-01  1.42093196e-01  6.74047022e-02\n",
      "  -1.24155884e-01 -7.20104943e-01  2.71275110e-01  7.37615843e-03]\n",
      " [ 1.92737814e-01 -4.80828986e-01  2.12426210e-01 -2.86356119e-01\n",
      "  -4.88149910e-01 -5.58877488e-01  1.48433685e-01  5.32575511e-01\n",
      "  -6.20650357e-01  1.82338565e-01  4.11538586e-01  8.56685513e-01\n",
      "   5.66806240e-01  1.31142868e-01  6.74047022e-02  5.55150264e-01\n",
      "  -7.38860426e-01  3.54494374e-01  6.91964746e-02 -3.51368113e-01]\n",
      " [ 1.61643851e-02 -2.35121773e-01  4.36004020e-01  3.81870093e-01\n",
      "   6.92721772e-01 -6.16828311e-02 -3.47642274e-01 -1.59830075e-01\n",
      "  -2.43880745e-01 -3.33832849e-02 -4.32991880e-01 -4.11491009e-01\n",
      "  -3.80162185e-01  5.06881472e-01 -1.24155884e-01 -7.38860426e-01\n",
      "   5.75362476e-01  7.94444645e-01  1.55784404e-01  7.79130085e-01]\n",
      " [ 2.37621269e-01  2.43225496e-01 -4.23497998e-01 -5.61953210e-01\n",
      "   2.34275167e-01 -1.34298312e-01  7.66693440e-01  6.74523963e-01\n",
      "  -5.54442240e-01 -2.27781102e-01 -2.05498950e-01  6.03035415e-01\n",
      "   8.29128702e-02  6.56191969e-01 -7.20104943e-01  3.54494374e-01\n",
      "   7.94444645e-01  3.92608523e-01 -6.77294745e-01 -1.67373909e-01]\n",
      " [-3.42525343e-02  1.82821348e-01  2.45812729e-01  3.05548392e-01\n",
      "  -6.45097363e-01  7.18416811e-01  9.40065618e-02 -1.13289897e-01\n",
      "  -1.22248872e-01 -6.60800696e-01  3.35199686e-01 -5.24600639e-01\n",
      "   6.93883243e-01  4.04532241e-01  2.71275110e-01  6.91964746e-02\n",
      "   1.55784404e-01 -6.77294745e-01  3.47619239e-01 -2.08247747e-01]\n",
      " [-3.35992758e-01  3.76350588e-01 -7.39046457e-01 -5.42941157e-01\n",
      "   2.29524931e-02 -4.47689679e-01  6.03179387e-01  4.38829019e-01\n",
      "   8.19105587e-02  7.28689732e-01  1.21006820e-01 -2.72167847e-01\n",
      "   5.61535378e-01  1.04583159e-01  7.37615843e-03 -3.51368113e-01\n",
      "   7.79130085e-01 -1.67373909e-01 -2.08247747e-01  2.06592640e-01]]\n"
     ]
    }
   ],
   "source": [
    "# Random matrix is generated\n",
    "dim=20\n",
    "Q =  2*rand(dim,dim) - 1\n",
    "Q = (Q+Q.T)/2\n",
    "for k in range(dim):\n",
    "    Q[k,k] = np.abs(Q[k,k])\n",
    "\n",
    "print(Q)"
   ]
  },
  {
   "cell_type": "code",
   "execution_count": 21,
   "metadata": {},
   "outputs": [
    {
     "name": "stdout",
     "output_type": "stream",
     "text": [
      "[[ 0.57547249  0.28827637 -0.22180588  0.61445754 -0.84208198]\n",
      " [ 0.28827637  0.09738587  0.27053713  0.15479807 -0.49282438]\n",
      " [-0.22180588  0.27053713  0.26003476 -0.33870846 -0.1518901 ]\n",
      " [ 0.61445754  0.15479807 -0.33870846  0.49612604 -0.35554781]\n",
      " [-0.84208198 -0.49282438 -0.1518901  -0.35554781  0.25235959]]\n"
     ]
    }
   ],
   "source": [
    "# Copy in Matrix from File\n",
    "Q = pd.read_csv(\"Q5.csv\").values\n",
    "dim=len(Q[0])\n",
    "\n",
    "print(Q)"
   ]
  },
  {
   "cell_type": "code",
   "execution_count": 22,
   "metadata": {},
   "outputs": [
    {
     "name": "stdout",
     "output_type": "stream",
     "text": [
      "{('a0', 'a0'): 0.575472491, ('a1', 'a1'): 0.097385871, ('a2', 'a2'): 0.26003476, ('a3', 'a3'): 0.496126044, ('a4', 'a4'): 0.252359586, ('a1', 'a0'): 0.288276368, ('a2', 'a0'): -0.22180587899999998, ('a2', 'a1'): 0.270537126, ('a3', 'a0'): 0.614457538, ('a3', 'a1'): 0.154798069, ('a3', 'a2'): -0.338708457, ('a4', 'a0'): -0.8420819759999999, ('a4', 'a1'): -0.492824376, ('a4', 'a2'): -0.151890102, ('a4', 'a3'): -0.355547809}\n",
      "  a0 a1 a2 a3 a4   energy num_oc. chain_.\n",
      "0  0  1  0  0  1 -0.143079      16     0.0\n",
      "1  1  0  1  0  1 -0.127911      29     0.0\n",
      "2  1  1  0  0  1 -0.121412      30     0.0\n",
      "3  1  0  0  0  1 -0.01425       8     0.0\n",
      "4  0  0  0  0  0      0.0       6     0.0\n",
      "5  1  1  1  0  1 0.035464       8     0.0\n",
      "6  0  1  0  1  1 0.152297       2     0.0\n",
      "7  1  0  1  1  1 0.288416       1     0.0\n",
      "['BINARY', 8 rows, 100 samples, 5 variables]\n"
     ]
    }
   ],
   "source": [
    "# convert matrix into a QUBO with linear=biases and quadratic=couplings terms\n",
    "linear={('a'+str(k), 'a'+str(k)):Q[k][k] for k in range(dim)}\n",
    "\n",
    "quadratic={('a'+str(i+1), 'a'+str(j)):Q[i+1][j] for i in range(dim-1) for j in range(dim-1) if j<i+1}\n",
    "\n",
    "QDwave = dict(linear)\n",
    "QDwave.update(quadratic)\n",
    "\n",
    "print(QDwave)\n",
    "\n",
    "chainstrength = 1\n",
    "numruns = 100\n",
    "\n",
    "\n",
    "\n",
    "sampler = EmbeddingComposite(DWaveSampler())\n",
    "\n",
    "\n",
    "response = sampler.sample_qubo(QDwave, chain_strength=chainstrength, num_reads=numruns)\n",
    "print(response)\n",
    "#dwave.inspector.show(QDwave,response)"
   ]
  },
  {
   "cell_type": "code",
   "execution_count": null,
   "metadata": {},
   "outputs": [],
   "source": [
    "# print results in binary\n",
    "\n",
    "title_str=[]\n",
    "for a in range(dim):\n",
    "        title_str.append('a'+str(a))\n",
    "print(title_str, \"Energy\")\n",
    "for sample, energy, n_occurences, chain_break_freq in response.data():\n",
    "    sample_str=[]\n",
    "    for a in range(dim):\n",
    "        sample_str.append(str(sample['a'+str(a)]))\n",
    "    print(sample_str, energy)"
   ]
  },
  {
   "cell_type": "code",
   "execution_count": 23,
   "metadata": {},
   "outputs": [
    {
     "name": "stdout",
     "output_type": "stream",
     "text": [
      "[1, 4] -0.14307891899999997 16\n",
      "[0, 2, 4] -0.12791112000000004 29\n",
      "[0, 1, 4] -0.12141203599999995 30\n",
      "[0, 4] -0.014249898999999844 8\n",
      "[] 0.0 6\n",
      "[0, 1, 2, 4] 0.03546386899999998 8\n",
      "[1, 3, 4] 0.152297385 2\n",
      "[0, 2, 3, 4] 0.288416196 1\n",
      "best D-Wave:[1, 4] energy:-0.14307891899999997 occurences:16\n"
     ]
    }
   ],
   "source": [
    "# print qubits with value 1\n",
    "best=0\n",
    "for sample, energy, n_occurences, chain_break_freq in response.data():\n",
    "    sample_list=[]\n",
    "    for a in range(dim):\n",
    "        #sample_str.append(str(sample['a'+str(a)]))\n",
    "        if sample['a'+str(a)]==1:\n",
    "            sample_list.append(a)\n",
    "    if best==0:\n",
    "        best_DWave_val='best D-Wave:'+str(sample_list)+' energy:'+str(energy)+' occurences:'+str(n_occurences)\n",
    "        best=1\n",
    "    print(sample_list, energy, n_occurences)\n",
    "print(best_DWave_val)   \n",
    "\n",
    "   "
   ]
  },
  {
   "cell_type": "code",
   "execution_count": 9,
   "metadata": {},
   "outputs": [],
   "source": [
    "def DWaveSamplerQ(Q,plot_limit):\n",
    "    from itertools import combinations\n",
    "    import numpy as np\n",
    "    import pandas as pd\n",
    "    import random\n",
    "    import math\n",
    "    import matplotlib.pyplot as plt\n",
    "    \n",
    "    def nCr(n,r):\n",
    "        f = math.factorial\n",
    "        return int(f(n) / f(r) / f(n-r))\n",
    "    \n",
    "    def random_combination(iterable, r):\n",
    "        \"Random selection from itertools.combinations(iterable, r)\"\n",
    "        pool = tuple(iterable)\n",
    "        n = len(pool)\n",
    "        indices = sorted(random.sample(range(n), r))\n",
    "        return list(tuple(pool[i] for i in indices))\n",
    "    \n",
    "    def sum(i_list, Q):\n",
    "        sum_l=0\n",
    "        sum_q=0\n",
    "        for i in (i_list):\n",
    "            sum_l+=Q[i][i]\n",
    "        for i in (i_list):\n",
    "            for j in (i_list):\n",
    "                if i<j:\n",
    "                    sum_q+=Q[i][j]\n",
    "            \n",
    "        return(sum_l+sum_q)\n",
    "    \n",
    "    \n",
    "    N=len(Q[0])\n",
    "    t= (2**N)-1\n",
    "    \n",
    "    e_min=9999999\n",
    "    count=1\n",
    "    min_list=[]\n",
    "    plot_data=[]\n",
    "    for n in range(1,N):  # for groups of items from 1 to N\n",
    "        comb=nCr(N,n)\n",
    "        #print('--m ', m, comb)\n",
    "        if comb>plot_limit:\n",
    "            combf=plot_limit\n",
    "        else:\n",
    "            combf=comb\n",
    "                \n",
    "        for i in range (combf):\n",
    "            i_list=random_combination(range(N), n)\n",
    "            plot_data.append(sum(list(i_list),Q))\n",
    "            \n",
    "            if sum(list(i_list),Q)<e_min:  \n",
    "\n",
    "                    e_min=sum(list(i_list),Q)  \n",
    "                    \n",
    "                    min_list=list(i_list)\n",
    "                    print(list(i_list), sum(list(i_list),Q))\n",
    "            count+=1\n",
    "    plt.plot(plot_data)\n",
    "    plt.ylabel('Energy')\n",
    "    plt.show()\n",
    "    \n",
    "    print('Best found:', min_list)\n",
    "    print('Energy:', e_min)\n",
    "    print('From:', count, ' samples')\n",
    "    print('Possible solutions:', t)\n",
    "    return"
   ]
  },
  {
   "cell_type": "code",
   "execution_count": 24,
   "metadata": {},
   "outputs": [
    {
     "name": "stdout",
     "output_type": "stream",
     "text": [
      "[4] 0.252359586\n",
      "[1, 4] -0.14307891899999997\n"
     ]
    },
    {
     "data": {
      "image/png": "[encoded data removed]",
      "text/plain": [
       "<Figure size 432x288 with 1 Axes>"
      ]
     },
     "metadata": {
      "needs_background": "light"
     },
     "output_type": "display_data"
    },
    {
     "name": "stdout",
     "output_type": "stream",
     "text": [
      "Best found: [1, 4]\n",
      "Energy: -0.14307891899999997\n",
      "From: 31  samples\n",
      "Possible solutions: 31\n"
     ]
    }
   ],
   "source": [
    "DWaveSamplerQ(Q,100)"
   ]
  },
  {
   "cell_type": "code",
   "execution_count": 25,
   "metadata": {},
   "outputs": [
    {
     "name": "stdout",
     "output_type": "stream",
     "text": [
      "best D-Wave:[1, 4] energy:-0.14307891899999997 occurences:16\n"
     ]
    }
   ],
   "source": [
    "print(best_DWave_val) \n"
   ]
  },
  {
   "cell_type": "code",
   "execution_count": null,
   "metadata": {},
   "outputs": [],
   "source": []
  }
 ],
 "metadata": {
  "kernelspec": {
   "display_name": "Python 3",
   "language": "python",
   "name": "python3"
  },
  "language_info": {
   "codemirror_mode": {
    "name": "ipython",
    "version": 3
   },
   "file_extension": ".py",
   "mimetype": "text/x-python",
   "name": "python",
   "nbconvert_exporter": "python",
   "pygments_lexer": "ipython3",
   "version": "3.7.3"
  }
 },
 "nbformat": 4,
 "nbformat_minor": 2
}
