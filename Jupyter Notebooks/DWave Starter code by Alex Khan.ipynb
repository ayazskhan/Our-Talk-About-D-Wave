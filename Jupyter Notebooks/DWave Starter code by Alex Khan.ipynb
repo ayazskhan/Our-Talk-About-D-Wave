{
 "cells": [
  {
   "cell_type": "code",
   "execution_count": 12,
   "metadata": {},
   "outputs": [],
   "source": [
    "# Copyright 2020 Alex Khan\n",
    "#\n",
    "# Licensed under the Apache License, Version 2.0 (the \"License\");\n",
    "# you may not use this file except in compliance with the License.\n",
    "# You may obtain a copy of the License at\n",
    "#\n",
    "#     http://www.apache.org/licenses/LICENSE-2.0\n",
    "#\n",
    "# Unless required by applicable law or agreed to in writing, software\n",
    "# distributed under the License is distributed on an \"AS IS\" BASIS,\n",
    "# WITHOUT WARRANTIES OR CONDITIONS OF ANY KIND, either express or implied.\n",
    "# See the License for the specific language governing permissions and\n",
    "# limitations under the License.\n",
    "\n",
    "\"\"\"\n",
    "Things to do:\n",
    " - Please name this file <demo_name>.py\n",
    " - Fill in [yyyy] and [name of copyright owner] in the copyright (top line)\n",
    " - Add demo code below\n",
    " - Format code so that it conforms with PEP 8\n",
    "\"\"\"\n",
    "\n",
    "import numpy as np\n",
    "from numpy.random import rand\n",
    "import pandas as pd\n",
    "from dwave.system.samplers import DWaveSampler\n",
    "from dwave.system.composites import EmbeddingComposite\n",
    "from minorminer import find_embedding\n",
    "import networkx as nx\n",
    "import dwave.inspector"
   ]
  },
  {
   "cell_type": "code",
   "execution_count": 22,
   "metadata": {},
   "outputs": [],
   "source": [
    "# Random matrix is generated\n",
    "dim=20\n",
    "Q =  2*rand(dim,dim) - 1\n",
    "Q = (Q+Q.T)/2\n",
    "for k in range(dim):\n",
    "    Q[k,k] = np.abs(Q[k,k])\n",
    "\n",
    "print(Q)"
   ]
  },
  {
   "cell_type": "code",
   "execution_count": 23,
   "metadata": {},
   "outputs": [],
   "source": [
    "# Copy in Matrix from File\n",
    "Q = pd.read_csv(\"Q20.csv\").values\n",
    "dim=len(Q[0])\n",
    "\n",
    "print(Q)"
   ]
  },
  {
   "cell_type": "code",
   "execution_count": 24,
   "metadata": {},
   "outputs": [],
   "source": [
    "# convert matrix into a QUBO with linear=biases and quadratic=couplings terms\n",
    "linear={('a'+str(k), 'a'+str(k)):Q[k][k] for k in range(dim)}\n",
    "\n",
    "quadratic={('a'+str(i+1), 'a'+str(j)):Q[i+1][j] for i in range(dim-1) for j in range(dim-1) if j<i+1}\n",
    "\n",
    "QDwave = dict(linear)\n",
    "QDwave.update(quadratic)\n",
    "\n",
    "print(QDwave)\n",
    "\n",
    "chainstrength = 1\n",
    "numruns = 100\n",
    "\n",
    "\n",
    "\n",
    "sampler = EmbeddingComposite(DWaveSampler())\n",
    "\n",
    "\n",
    "response = sampler.sample_qubo(QDwave, chain_strength=chainstrength, num_reads=numruns)\n",
    "print(response)\n",
    "#dwave.inspector.show(QDwave,response)"
   ]
  },
  {
   "cell_type": "code",
   "execution_count": null,
   "metadata": {},
   "outputs": [],
   "source": [
    "# print results in binary\n",
    "\n",
    "title_str=[]\n",
    "for a in range(dim):\n",
    "        title_str.append('a'+str(a))\n",
    "print(title_str, \"Energy\")\n",
    "for sample, energy, n_occurences, chain_break_freq in response.data():\n",
    "    sample_str=[]\n",
    "    for a in range(dim):\n",
    "        sample_str.append(str(sample['a'+str(a)]))\n",
    "    print(sample_str, energy)"
   ]
  },
  {
   "cell_type": "code",
   "execution_count": 25,
   "metadata": {},
   "outputs": [
    {
     "name": "stdout",
     "output_type": "stream",
     "text": [
      "[0, 1, 3, 4, 6, 12, 18, 19] -7.2996 3\n",
      "best D-Wave:[0, 1, 3, 4, 6, 12, 18, 19] energy:-7.2996 occurences:3\n"
     ]
    }
   ],
   "source": [
    "# print qubits with value 1\n",
    "best=0\n",
    "for sample, energy, n_occurences, chain_break_freq in response.data():\n",
    "    sample_list=[]\n",
    "    for a in range(dim):\n",
    "        #sample_str.append(str(sample['a'+str(a)]))\n",
    "        if sample['a'+str(a)]==1:\n",
    "            sample_list.append(a)\n",
    "    if best==0:\n",
    "        best_DWave_val='best D-Wave:'+str(sample_list)+' energy:'+str(energy)+' occurences:'+str(n_occurences)\n",
    "        best=1\n",
    "    print(sample_list, energy, n_occurences)\n",
    "    break #comment out break to see all values\n",
    "print(best_DWave_val)   \n",
    "\n",
    "   "
   ]
  },
  {
   "cell_type": "code",
   "execution_count": 16,
   "metadata": {},
   "outputs": [],
   "source": [
    "def DWaveSamplerQ(Q,plot_limit):\n",
    "    from itertools import combinations\n",
    "    import numpy as np\n",
    "    import pandas as pd\n",
    "    import random\n",
    "    import math\n",
    "    import matplotlib.pyplot as plt\n",
    "    \n",
    "    def nCr(n,r):\n",
    "        f = math.factorial\n",
    "        return int(f(n) / f(r) / f(n-r))\n",
    "    \n",
    "    def random_combination(iterable, r):\n",
    "        \"Random selection from itertools.combinations(iterable, r)\"\n",
    "        pool = tuple(iterable)\n",
    "        n = len(pool)\n",
    "        indices = sorted(random.sample(range(n), r))\n",
    "        return list(tuple(pool[i] for i in indices))\n",
    "    \n",
    "    def sum(i_list, Q):\n",
    "        sum_l=0\n",
    "        sum_q=0\n",
    "        for i in (i_list):\n",
    "            sum_l+=Q[i][i]\n",
    "        for i in (i_list):\n",
    "            for j in (i_list):\n",
    "                if i<j:\n",
    "                    sum_q+=Q[i][j]\n",
    "            \n",
    "        return(sum_l+sum_q)\n",
    "    \n",
    "    \n",
    "    N=len(Q[0])\n",
    "    t= (2**N)-1\n",
    "    \n",
    "    e_min=9999999\n",
    "    count=1\n",
    "    min_list=[]\n",
    "    plot_data=[]\n",
    "    for n in range(1,N):  # for groups of items from 1 to N\n",
    "        comb=nCr(N,n)\n",
    "        #print('--m ', m, comb)\n",
    "        if comb>plot_limit:\n",
    "            combf=plot_limit\n",
    "        else:\n",
    "            combf=comb\n",
    "                \n",
    "        for i in range (combf):\n",
    "            i_list=random_combination(range(N), n)\n",
    "            plot_data.append(sum(list(i_list),Q))\n",
    "            \n",
    "            if sum(list(i_list),Q)<e_min:  \n",
    "\n",
    "                    e_min=sum(list(i_list),Q)  \n",
    "                    \n",
    "                    min_list=list(i_list)\n",
    "                    print(list(i_list), sum(list(i_list),Q))\n",
    "            count+=1\n",
    "    plt.plot(plot_data)\n",
    "    plt.ylabel('Energy')\n",
    "    plt.show()\n",
    "    \n",
    "    print('Best found:', min_list)\n",
    "    print('Energy:', e_min)\n",
    "    print('From:', count, ' samples')\n",
    "    print('Possible solutions:', t)\n",
    "    return"
   ]
  },
  {
   "cell_type": "code",
   "execution_count": 17,
   "metadata": {},
   "outputs": [
    {
     "name": "stdout",
     "output_type": "stream",
     "text": [
      "[8] -0.4966\n",
      "[14] -0.6697\n",
      "[5] -0.7757\n",
      "[7, 13] -1.6678000000000002\n",
      "[2, 14] -1.6897\n",
      "[1, 19] -1.7529000000000001\n",
      "[0, 3, 18] -2.5077000000000003\n",
      "[1, 6, 19] -2.691\n",
      "[1, 14, 18] -2.7226999999999997\n",
      "[4, 13, 18] -3.1068000000000002\n",
      "[0, 16, 18, 19] -3.2195\n",
      "[1, 6, 12, 18] -3.4253\n",
      "[1, 4, 14, 19] -3.6454999999999997\n",
      "[0, 3, 18, 19] -3.7197000000000005\n",
      "[1, 6, 12, 19] -3.8338\n",
      "[0, 4, 18, 19] -4.1532\n",
      "[1, 4, 18, 19] -4.3152\n",
      "[0, 4, 6, 12, 19] -4.3179\n",
      "[0, 2, 4, 14, 18] -4.4033\n",
      "[3, 4, 13, 18, 19] -4.729699999999999\n",
      "[1, 2, 4, 13, 18] -4.9131\n",
      "[2, 4, 13, 14, 18] -5.1046\n",
      "[1, 2, 4, 14, 18] -5.1619\n",
      "[1, 4, 7, 13, 14, 18] -5.4025\n",
      "[1, 3, 4, 13, 18, 19] -5.983599999999999\n",
      "[0, 1, 3, 4, 18, 19] -6.2078\n",
      "[1, 2, 3, 4, 13, 18, 19] -6.3614\n",
      "[1, 2, 4, 13, 14, 18, 19] -6.7592\n",
      "[1, 2, 3, 4, 7, 13, 14, 18, 19] -6.8532\n"
     ]
    },
    {
     "data": {
      "image/png": "[encoded data removed]",
      "text/plain": [
       "<Figure size 432x288 with 1 Axes>"
      ]
     },
     "metadata": {
      "needs_background": "light"
     },
     "output_type": "display_data"
    },
    {
     "name": "stdout",
     "output_type": "stream",
     "text": [
      "Best found: [1, 2, 3, 4, 7, 13, 14, 18, 19]\n",
      "Energy: -6.8532\n",
      "From: 122391  samples\n",
      "Possible solutions: 1048575\n"
     ]
    }
   ],
   "source": [
    "DWaveSamplerQ(Q,10000)"
   ]
  },
  {
   "cell_type": "code",
   "execution_count": 18,
   "metadata": {},
   "outputs": [
    {
     "name": "stdout",
     "output_type": "stream",
     "text": [
      "best D-Wave:[0, 1, 2, 4, 6, 12, 14, 18, 19] energy:-7.068099999999999 occurences:3\n"
     ]
    }
   ],
   "source": [
    "print(best_DWave_val) "
   ]
  },
  {
   "cell_type": "code",
   "execution_count": null,
   "metadata": {},
   "outputs": [],
   "source": []
  }
 ],
 "metadata": {
  "kernelspec": {
   "display_name": "Python 3",
   "language": "python",
   "name": "python3"
  },
  "language_info": {
   "codemirror_mode": {
    "name": "ipython",
    "version": 3
   },
   "file_extension": ".py",
   "mimetype": "text/x-python",
   "name": "python",
   "nbconvert_exporter": "python",
   "pygments_lexer": "ipython3",
   "version": "3.7.3"
  }
 },
 "nbformat": 4,
 "nbformat_minor": 2
}
